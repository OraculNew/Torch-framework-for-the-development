{
  "nbformat": 4,
  "nbformat_minor": 0,
  "metadata": {
    "colab": {
      "name": "Lesson_3.ipynb",
      "provenance": [],
      "collapsed_sections": []
    },
    "kernelspec": {
      "name": "python3",
      "display_name": "Python 3"
    },
    "language_info": {
      "name": "python"
    }
  },
  "cells": [
    {
      "cell_type": "markdown",
      "source": [
        "# Dataset, Dataloader, BatchNorm, Dropout, Оптимизация"
      ],
      "metadata": {
        "id": "668YzKjNLAeh"
      }
    },
    {
      "cell_type": "markdown",
      "source": [
        "## Используя датасет недвижимости (sklearn.datasets.fetch_california_housing)\n",
        "Необходимо:\n",
        "* Создать Dataset для загрузки данных\n",
        "* Обернуть его в Dataloader\n",
        "* Написать архитектуру сети, которая предсказывает стоимость недвижимости. Сеть должна включать BatchNorm слои и Dropout (или НЕ включать, но нужно обосновать)\n",
        "* Сравните сходимость Adam, RMSProp и SGD, сделайте вывод по качеству работы модели\n",
        "\n",
        "При этом train-test разделение нужно сделать с помощью sklearn random_state=13, test_size = 0.25."
      ],
      "metadata": {
        "id": "Xl_xyRZOLQIn"
      }
    },
    {
      "cell_type": "markdown",
      "source": [
        "### Подключаем необходимые библиотеки"
      ],
      "metadata": {
        "id": "iXVRXPcQRVsf"
      }
    },
    {
      "cell_type": "code",
      "source": [
        "import numpy as np\n",
        "import pandas as pd\n",
        "\n",
        "import torch\n",
        "from torch import nn\n",
        "from torch.optim import Adam, RMSprop, SGD\n",
        "from torch.utils.data import DataLoader, Dataset\n",
        "\n",
        "from sklearn.datasets import fetch_california_housing\n",
        "from sklearn.model_selection import train_test_split\n",
        "from sklearn.preprocessing import StandardScaler"
      ],
      "metadata": {
        "id": "SPdbPCmsLDAY"
      },
      "execution_count": 1,
      "outputs": []
    },
    {
      "cell_type": "markdown",
      "source": [
        "### Глобальные переменные"
      ],
      "metadata": {
        "id": "TStGNjYHcbjb"
      }
    },
    {
      "cell_type": "code",
      "execution_count": 2,
      "metadata": {
        "id": "dgyEqrhgJmZs"
      },
      "outputs": [],
      "source": [
        "DEVICE = torch.device(\"cuda\" if torch.cuda.is_available() else \"cpu\")\n",
        "EPOCHES = 8\n",
        "LR = 0.01"
      ]
    },
    {
      "cell_type": "markdown",
      "source": [
        "### Создадим Dataset"
      ],
      "metadata": {
        "id": "_fowHSgezEOJ"
      }
    },
    {
      "cell_type": "code",
      "source": [
        "class MyDataset(Dataset):\n",
        "  def __init__(self, *init_datasets):\n",
        "    assert all(init_datasets[0].size(0) == init_dataset.size(0) for init_dataset in init_datasets), \"Несоотвутствует размерность среди dataset\"\n",
        "    self._base_datasets = init_datasets\n",
        "  \n",
        "  def __len__(self):\n",
        "    return self._base_datasets[0].size(0)\n",
        "  \n",
        "  def __getitem__(self, idx):\n",
        "      return tuple(base_dataset[idx] for base_dataset in self._base_datasets)"
      ],
      "metadata": {
        "id": "GmUM9VbFjcJS"
      },
      "execution_count": 3,
      "outputs": []
    },
    {
      "cell_type": "markdown",
      "source": [
        "### Опишем нейронную сеть"
      ],
      "metadata": {
        "id": "6xxppgS-znZR"
      }
    },
    {
      "cell_type": "code",
      "source": [
        "class MyNet(nn.Module):\n",
        "  def __init__(self, variant = 1) -> None:\n",
        "      super(MyNet, self).__init__()\n",
        "      self.block_1 = self.variant_sequential(variant, 8, 100, 0.1)\n",
        "      self.block_2 = self.variant_sequential(variant, 100, 100, 0.2)\n",
        "      self.block_3 = self.variant_sequential(variant, 100, 60, 0.2)\n",
        "      self.block_4 = self.variant_sequential(variant, 60 ,30 ,0.2)\n",
        "      self.predict = self.variant_sequential(4, 30, 1)\n",
        "  \n",
        "  def forward(self, inp):\n",
        "    out = self.block_1(inp)\n",
        "    out = self.block_2(out)\n",
        "    out = self.block_3(out)\n",
        "    out = self.block_4(out)\n",
        "    out = self.predict(out)\n",
        "    return out[:, 0]\n",
        "\n",
        "  def variant_sequential(self, variant = 4, in_features = 0, out_features = 0, d_out = 0.1, bias = True):\n",
        "    result = None\n",
        "    #BatchNorm1d,ReLU,Dropout \n",
        "    if variant == 1:\n",
        "          result = nn.Sequential(nn.Linear(in_features, out_features, bias=True),\n",
        "          nn.BatchNorm1d(out_features),         \n",
        "          nn.ReLU(),\n",
        "          nn.Dropout(d_out))\n",
        "\n",
        "    #ReLU,BatchNorm1d,Dropout\n",
        "    if variant == 2:\n",
        "          result = nn.Sequential(nn.Linear(in_features, out_features, bias=True),\n",
        "          nn.ReLU(),\n",
        "          nn.BatchNorm1d(out_features),\n",
        "          nn.Dropout(d_out))\n",
        "\n",
        "    #Dropout,BatchNorm1d,ReLU\n",
        "    if variant == 3:\n",
        "          result = nn.Sequential(nn.Linear(in_features, out_features, bias=True),\n",
        "          nn.Dropout(d_out),\n",
        "          nn.BatchNorm1d(out_features),\n",
        "          nn.ReLU())\n",
        "\n",
        "    #BatchNorm1d,ReLU      \n",
        "    if variant == 4:\n",
        "          result = nn.Sequential(nn.Linear(in_features, out_features, bias=True),\n",
        "          nn.BatchNorm1d(out_features),\n",
        "          nn.ReLU())\n",
        "\n",
        "    return result   \n"
      ],
      "metadata": {
        "id": "tgH8tfLntAyw"
      },
      "execution_count": 4,
      "outputs": []
    },
    {
      "cell_type": "markdown",
      "source": [
        "### Функция для оценки оптимизации"
      ],
      "metadata": {
        "id": "DyzTAmHhzuVI"
      }
    },
    {
      "cell_type": "code",
      "source": [
        "def train_loop(train_loader, test_loader, net, optimizer):\n",
        "  loss_fn = nn.MSELoss()\n",
        "  best_acc = {'train': None, 'test': None}\n",
        "  net.train()\n",
        "  for epoch in range(EPOCHES):\n",
        "    running_loss, running_items, running_right = 0.0, 0.0, 0.0\n",
        "    for i, (inputs, labels) in enumerate(train_loader):\n",
        "        \n",
        "        outputs = net(inputs)\n",
        "        loss = loss_fn(outputs, labels)\n",
        "\n",
        "        # обнуляем градиент\n",
        "        optimizer.zero_grad()\n",
        "        loss.backward()\n",
        "        optimizer.step()\n",
        "\n",
        "        # выводим статистику о процессе обучения\n",
        "        running_loss += loss.item()\n",
        "        running_items += len(labels)\n",
        "        \n",
        "        # выводим статистику о процессе обучения\n",
        "        if i % 100 == 0 or (i + 1) == len(train_loader):    # печатаем каждые 100 mini-batches\n",
        "            net.eval()\n",
        "\n",
        "            test_loss, test_running_total, test_loss  = 0.0, 0.0, 0.0\n",
        "            for y, (out_test, lbl_test) in enumerate(test_loader):\n",
        "                test_outputs = net(out_test)\n",
        "                test_loss += loss_fn(test_outputs, lbl_test)\n",
        "                test_running_total += len(lbl_test)\n",
        "            \n",
        "            res_loss_train = running_loss / running_items\n",
        "            res_loss_test = test_loss / test_running_total\n",
        "            \n",
        "            if best_acc['train'] is None or res_loss_train < best_acc['train']:\n",
        "              best_acc['train'] = res_loss_train\n",
        "            \n",
        "            if best_acc['test'] is None or res_loss_test < best_acc['test']:\n",
        "              best_acc['test'] = res_loss_train\n",
        "\n",
        "            #print(f'Epoch [{epoch + 1}/{EPOCHES}]. ' \\\n",
        "            #      f'Step [{i + 1}/{len(train_loader)}]. ' \\\n",
        "            #      f'Loss: {res_loss_train:.3f}. '\\\n",
        "            #      f'Test acc: {res_loss_test:.3f}.')\n",
        "            \n",
        "            running_loss, running_items = 0.0, 0.0\n",
        "            net.train()\n",
        "  print(f\"Best acc train: {best_acc['train']:.3f}. Best acc test: {best_acc['test']:.3f}\")\n",
        "  print('Training is finished!')\n",
        "  %%time"
      ],
      "metadata": {
        "id": "3qufHpd73AS2"
      },
      "execution_count": 5,
      "outputs": []
    },
    {
      "cell_type": "markdown",
      "source": [
        "### Начало анализа"
      ],
      "metadata": {
        "id": "O34h0mrl02tx"
      }
    },
    {
      "cell_type": "code",
      "source": [
        "california_housing = fetch_california_housing()\n",
        "# Разделим на тестовые и тренеровочные данные\n",
        "X_train, X_test, y_train, y_test = train_test_split(california_housing.data, california_housing.target, test_size=0.25, random_state=13)"
      ],
      "metadata": {
        "id": "wJLuPNoMo_rB"
      },
      "execution_count": 6,
      "outputs": []
    },
    {
      "cell_type": "code",
      "source": [
        "# Нормализуем данные и подготовим их для дальнейшего использования в нашем dstaset\n",
        "scale = StandardScaler()\n",
        "X_train_s = scale.fit_transform(X_train)\n",
        "X_test_s = scale.transform(X_test)"
      ],
      "metadata": {
        "id": "Y7iJiuQ8sZ1J"
      },
      "execution_count": 7,
      "outputs": []
    },
    {
      "cell_type": "code",
      "source": [
        "train_xt = torch.from_numpy(X_train_s.astype(np.float32)).to(DEVICE)\n",
        "train_yt = torch.from_numpy(y_train.astype(np.float32)).to(DEVICE)\n",
        "\n",
        "test_xt = torch.from_numpy(X_test_s.astype(np.float32)).to(DEVICE)\n",
        "test_yt = torch.from_numpy(y_test.astype(np.float32)).to(DEVICE)"
      ],
      "metadata": {
        "id": "kmA0J6Tt94rl"
      },
      "execution_count": 8,
      "outputs": []
    },
    {
      "cell_type": "code",
      "source": [
        "train_dataset = MyDataset(train_xt, train_yt)\n",
        "test_dataset = MyDataset(test_xt, test_yt)"
      ],
      "metadata": {
        "id": "FnufbmuTbDfk"
      },
      "execution_count": 9,
      "outputs": []
    },
    {
      "cell_type": "code",
      "source": [
        "train_loader = DataLoader(train_dataset, batch_size=100, shuffle=True, num_workers=2, drop_last=True)\n",
        "test_loader = DataLoader(test_dataset, batch_size=100, shuffle=True, num_workers=2, drop_last=True)"
      ],
      "metadata": {
        "id": "ZvzYqOA4rdEZ"
      },
      "execution_count": 10,
      "outputs": []
    },
    {
      "cell_type": "markdown",
      "source": [
        "### Дальшей начнем анализ по таким оптимизаторам как Adam, RMSProp, SGD и SGD + Momentum"
      ],
      "metadata": {
        "id": "4mPYYgXp1q9Z"
      }
    },
    {
      "cell_type": "code",
      "source": [
        "variants = {1:'BatchNorm1d,ReLU,Dropout',2:'ReLU,BatchNorm1d,Dropout',3:'Dropout,BatchNorm1d,ReLU'}"
      ],
      "metadata": {
        "id": "RA5uT_aBJI5r"
      },
      "execution_count": 11,
      "outputs": []
    },
    {
      "cell_type": "markdown",
      "source": [
        "### Adam"
      ],
      "metadata": {
        "id": "uONCFvQo6OOd"
      }
    },
    {
      "cell_type": "code",
      "source": [
        "for i, label in variants.items():\n",
        "  net = MyNet(i).to(DEVICE)\n",
        "  optimizer = Adam(net.parameters(), lr=LR)  \n",
        "  print(f'********************\\nВариант:{i} {label}\\n{optimizer}\\n')  \n",
        "  train_loop(train_loader, test_loader, net, optimizer)\n"
      ],
      "metadata": {
        "colab": {
          "base_uri": "https://localhost:8080/"
        },
        "id": "fQD2vq1OJNwu",
        "outputId": "9da2a622-bbc2-4897-f468-59578863ef85"
      },
      "execution_count": 12,
      "outputs": [
        {
          "output_type": "stream",
          "name": "stdout",
          "text": [
            "********************\n",
            "Вариант:1 BatchNorm1d,ReLU,Dropout\n",
            "Adam (\n",
            "Parameter Group 0\n",
            "    amsgrad: False\n",
            "    betas: (0.9, 0.999)\n",
            "    eps: 1e-08\n",
            "    lr: 0.01\n",
            "    maximize: False\n",
            "    weight_decay: 0\n",
            ")\n",
            "\n",
            "Best acc train: 0.003. Best acc test: 0.004\n",
            "Training is finished!\n",
            "CPU times: user 2 µs, sys: 1e+03 ns, total: 3 µs\n",
            "Wall time: 6.2 µs\n",
            "********************\n",
            "Вариант:2 ReLU,BatchNorm1d,Dropout\n",
            "Adam (\n",
            "Parameter Group 0\n",
            "    amsgrad: False\n",
            "    betas: (0.9, 0.999)\n",
            "    eps: 1e-08\n",
            "    lr: 0.01\n",
            "    maximize: False\n",
            "    weight_decay: 0\n",
            ")\n",
            "\n",
            "Best acc train: 0.004. Best acc test: 0.004\n",
            "Training is finished!\n",
            "CPU times: user 5 µs, sys: 1 µs, total: 6 µs\n",
            "Wall time: 10 µs\n",
            "********************\n",
            "Вариант:3 Dropout,BatchNorm1d,ReLU\n",
            "Adam (\n",
            "Parameter Group 0\n",
            "    amsgrad: False\n",
            "    betas: (0.9, 0.999)\n",
            "    eps: 1e-08\n",
            "    lr: 0.01\n",
            "    maximize: False\n",
            "    weight_decay: 0\n",
            ")\n",
            "\n",
            "Best acc train: 0.003. Best acc test: 0.003\n",
            "Training is finished!\n",
            "CPU times: user 4 µs, sys: 1 µs, total: 5 µs\n",
            "Wall time: 7.39 µs\n"
          ]
        }
      ]
    },
    {
      "cell_type": "markdown",
      "source": [
        "### RMSProp"
      ],
      "metadata": {
        "id": "Sgc7oehAPX6S"
      }
    },
    {
      "cell_type": "code",
      "source": [
        "for i, label in variants.items():\n",
        "  net = MyNet(i).to(DEVICE)\n",
        "  optimizer = RMSprop(net.parameters(), lr=LR)\n",
        "  print(f'********************\\nВариант:{i} {label}\\n{optimizer}\\n')  \n",
        "  train_loop(train_loader, test_loader, net, optimizer)\n"
      ],
      "metadata": {
        "id": "RiEFVkYoPWZj",
        "colab": {
          "base_uri": "https://localhost:8080/"
        },
        "outputId": "e7e9aa5b-ac77-4d7b-de6f-874319a2c926"
      },
      "execution_count": 13,
      "outputs": [
        {
          "output_type": "stream",
          "name": "stdout",
          "text": [
            "********************\n",
            "Вариант:1 BatchNorm1d,ReLU,Dropout\n",
            "RMSprop (\n",
            "Parameter Group 0\n",
            "    alpha: 0.99\n",
            "    centered: False\n",
            "    eps: 1e-08\n",
            "    lr: 0.01\n",
            "    momentum: 0\n",
            "    weight_decay: 0\n",
            ")\n",
            "\n",
            "Best acc train: 0.003. Best acc test: 0.005\n",
            "Training is finished!\n",
            "CPU times: user 3 µs, sys: 1 µs, total: 4 µs\n",
            "Wall time: 8.11 µs\n",
            "********************\n",
            "Вариант:2 ReLU,BatchNorm1d,Dropout\n",
            "RMSprop (\n",
            "Parameter Group 0\n",
            "    alpha: 0.99\n",
            "    centered: False\n",
            "    eps: 1e-08\n",
            "    lr: 0.01\n",
            "    momentum: 0\n",
            "    weight_decay: 0\n",
            ")\n",
            "\n",
            "Best acc train: 0.003. Best acc test: 0.003\n",
            "Training is finished!\n",
            "CPU times: user 2 µs, sys: 0 ns, total: 2 µs\n",
            "Wall time: 6.91 µs\n",
            "********************\n",
            "Вариант:3 Dropout,BatchNorm1d,ReLU\n",
            "RMSprop (\n",
            "Parameter Group 0\n",
            "    alpha: 0.99\n",
            "    centered: False\n",
            "    eps: 1e-08\n",
            "    lr: 0.01\n",
            "    momentum: 0\n",
            "    weight_decay: 0\n",
            ")\n",
            "\n",
            "Best acc train: 0.003. Best acc test: 0.004\n",
            "Training is finished!\n",
            "CPU times: user 3 µs, sys: 0 ns, total: 3 µs\n",
            "Wall time: 8.58 µs\n"
          ]
        }
      ]
    },
    {
      "cell_type": "markdown",
      "source": [
        "### SGD"
      ],
      "metadata": {
        "id": "Ykjrw7qRQ3R6"
      }
    },
    {
      "cell_type": "code",
      "source": [
        "for i, label in variants.items():\n",
        "  net = MyNet(i).to(DEVICE)\n",
        "  optimizer = SGD(net.parameters(), lr=LR)\n",
        "  print(f'********************\\nВариант:{i} {label}\\n{optimizer}\\n')  \n",
        "  train_loop(train_loader, test_loader, net, optimizer)\n"
      ],
      "metadata": {
        "id": "rCbhKfC3Q2Rr",
        "colab": {
          "base_uri": "https://localhost:8080/"
        },
        "outputId": "065b8c46-8bbb-4a36-98d8-870477dce870"
      },
      "execution_count": 14,
      "outputs": [
        {
          "output_type": "stream",
          "name": "stdout",
          "text": [
            "********************\n",
            "Вариант:1 BatchNorm1d,ReLU,Dropout\n",
            "SGD (\n",
            "Parameter Group 0\n",
            "    dampening: 0\n",
            "    lr: 0.01\n",
            "    maximize: False\n",
            "    momentum: 0\n",
            "    nesterov: False\n",
            "    weight_decay: 0\n",
            ")\n",
            "\n",
            "Best acc train: 0.003. Best acc test: 0.003\n",
            "Training is finished!\n",
            "CPU times: user 3 µs, sys: 0 ns, total: 3 µs\n",
            "Wall time: 6.91 µs\n",
            "********************\n",
            "Вариант:2 ReLU,BatchNorm1d,Dropout\n",
            "SGD (\n",
            "Parameter Group 0\n",
            "    dampening: 0\n",
            "    lr: 0.01\n",
            "    maximize: False\n",
            "    momentum: 0\n",
            "    nesterov: False\n",
            "    weight_decay: 0\n",
            ")\n",
            "\n",
            "Best acc train: 0.004. Best acc test: 0.004\n",
            "Training is finished!\n",
            "CPU times: user 2 µs, sys: 0 ns, total: 2 µs\n",
            "Wall time: 6.68 µs\n",
            "********************\n",
            "Вариант:3 Dropout,BatchNorm1d,ReLU\n",
            "SGD (\n",
            "Parameter Group 0\n",
            "    dampening: 0\n",
            "    lr: 0.01\n",
            "    maximize: False\n",
            "    momentum: 0\n",
            "    nesterov: False\n",
            "    weight_decay: 0\n",
            ")\n",
            "\n",
            "Best acc train: 0.004. Best acc test: 0.004\n",
            "Training is finished!\n",
            "CPU times: user 2 µs, sys: 1 µs, total: 3 µs\n",
            "Wall time: 6.91 µs\n"
          ]
        }
      ]
    },
    {
      "cell_type": "markdown",
      "source": [
        "### SGD + Momentum"
      ],
      "metadata": {
        "id": "Nt9P7h3-RFKi"
      }
    },
    {
      "cell_type": "code",
      "source": [
        "for i, label in variants.items():\n",
        "  net = MyNet(i).to(DEVICE)\n",
        "  optimizer = SGD(net.parameters(), lr=LR, momentum=0.8)\n",
        "  print(f'********************\\nВариант:{i} {label}\\n{optimizer}\\n')  \n",
        "  train_loop(train_loader, test_loader, net, optimizer)\n"
      ],
      "metadata": {
        "id": "4w_Hf1HlRJB7",
        "colab": {
          "base_uri": "https://localhost:8080/"
        },
        "outputId": "4838344d-41cd-4306-d0ea-5d11f4091084"
      },
      "execution_count": 15,
      "outputs": [
        {
          "output_type": "stream",
          "name": "stdout",
          "text": [
            "********************\n",
            "Вариант:1 BatchNorm1d,ReLU,Dropout\n",
            "SGD (\n",
            "Parameter Group 0\n",
            "    dampening: 0\n",
            "    lr: 0.01\n",
            "    maximize: False\n",
            "    momentum: 0.8\n",
            "    nesterov: False\n",
            "    weight_decay: 0\n",
            ")\n",
            "\n",
            "Best acc train: 0.004. Best acc test: 0.004\n",
            "Training is finished!\n",
            "CPU times: user 3 µs, sys: 0 ns, total: 3 µs\n",
            "Wall time: 7.15 µs\n",
            "********************\n",
            "Вариант:2 ReLU,BatchNorm1d,Dropout\n",
            "SGD (\n",
            "Parameter Group 0\n",
            "    dampening: 0\n",
            "    lr: 0.01\n",
            "    maximize: False\n",
            "    momentum: 0.8\n",
            "    nesterov: False\n",
            "    weight_decay: 0\n",
            ")\n",
            "\n",
            "Best acc train: 0.003. Best acc test: 0.003\n",
            "Training is finished!\n",
            "CPU times: user 3 µs, sys: 0 ns, total: 3 µs\n",
            "Wall time: 7.63 µs\n",
            "********************\n",
            "Вариант:3 Dropout,BatchNorm1d,ReLU\n",
            "SGD (\n",
            "Parameter Group 0\n",
            "    dampening: 0\n",
            "    lr: 0.01\n",
            "    maximize: False\n",
            "    momentum: 0.8\n",
            "    nesterov: False\n",
            "    weight_decay: 0\n",
            ")\n",
            "\n",
            "Best acc train: 0.004. Best acc test: 0.004\n",
            "Training is finished!\n",
            "CPU times: user 2 µs, sys: 0 ns, total: 2 µs\n",
            "Wall time: 8.34 µs\n"
          ]
        }
      ]
    },
    {
      "cell_type": "markdown",
      "source": [
        "### Вывод\n",
        "\n",
        "Поставим ограничение (выбирались рандомно): \n",
        "* Количество эпох - EPOCHES=8\n",
        "* Размер батча в DataLoader - batch_size=100\n",
        "* Скорость обучения - lr=0.01\n",
        "\n",
        "Вариации:\n",
        "1.   BatchNorm1d, ReLU, Dropout\n",
        "2.   ReLU, BatchNorm1d, Dropout\n",
        "3.   Dropout, BatchNorm1d, ReLU\n",
        "\n",
        "Для сравнения используем смену последовательности применения нормализации, функции активации и регуляризации в 3 вариантах для различных оптимизаторов.\n",
        "Очевидно данный порядок применения влияет на точность и скорость сходимости.\n",
        "\n",
        "**ADAM** значительно снижает свои показатели скорости и точности при 2 варианции. Высокий показатель точности сохранился при вариации 3 (Dropout,BatchNorm1d,ReLU)\n",
        "\n",
        "**RMSProp** вариация 2 оказалась более быстрой и точной (ReLU,BatchNorm1d,Dropout)\n",
        "\n",
        "**SGD** вариант 1 оказался более точным по сравнению с остальными (BatchNorm1d,ReLU,Dropout). Скорость при этом остается соизмеримым с остальными вариациями\n",
        "\n",
        "**SGD + Momentum** вариант 2 (ReLU,BatchNorm1d,Dropout) оказался более точным, но скорость снижается, хотя и не самая низкая\n",
        "\n",
        "\n",
        "\n",
        "\n",
        "\n"
      ],
      "metadata": {
        "id": "Y-T0L_vO132p"
      }
    }
  ]
}