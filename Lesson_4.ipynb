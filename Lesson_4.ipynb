{
  "nbformat": 4,
  "nbformat_minor": 0,
  "metadata": {
    "colab": {
      "name": "Lesson_4.ipynb",
      "provenance": [],
      "collapsed_sections": []
    },
    "kernelspec": {
      "name": "python3",
      "display_name": "Python 3"
    },
    "language_info": {
      "name": "python"
    },
    "accelerator": "GPU",
    "widgets": {
      "application/vnd.jupyter.widget-state+json": {
        "aaa1367fcd184683a87eef87dc98784e": {
          "model_module": "@jupyter-widgets/controls",
          "model_name": "HBoxModel",
          "model_module_version": "1.5.0",
          "state": {
            "_dom_classes": [],
            "_model_module": "@jupyter-widgets/controls",
            "_model_module_version": "1.5.0",
            "_model_name": "HBoxModel",
            "_view_count": null,
            "_view_module": "@jupyter-widgets/controls",
            "_view_module_version": "1.5.0",
            "_view_name": "HBoxView",
            "box_style": "",
            "children": [
              "IPY_MODEL_e2917c0c780d418a909b288037bfd5f3",
              "IPY_MODEL_4ca6baca053341a68b5372b136ab65fe",
              "IPY_MODEL_b60bffeb2a43458aa3beb24a22a53118"
            ],
            "layout": "IPY_MODEL_c62fd613704b472a921e97bcf74031ea"
          }
        },
        "e2917c0c780d418a909b288037bfd5f3": {
          "model_module": "@jupyter-widgets/controls",
          "model_name": "HTMLModel",
          "model_module_version": "1.5.0",
          "state": {
            "_dom_classes": [],
            "_model_module": "@jupyter-widgets/controls",
            "_model_module_version": "1.5.0",
            "_model_name": "HTMLModel",
            "_view_count": null,
            "_view_module": "@jupyter-widgets/controls",
            "_view_module_version": "1.5.0",
            "_view_name": "HTMLView",
            "description": "",
            "description_tooltip": null,
            "layout": "IPY_MODEL_f3bd4c76572e4f9ebbd3414e9f9bdde0",
            "placeholder": "​",
            "style": "IPY_MODEL_0e6654ab0c594331a4fc5e6fff59ccc7",
            "value": ""
          }
        },
        "4ca6baca053341a68b5372b136ab65fe": {
          "model_module": "@jupyter-widgets/controls",
          "model_name": "FloatProgressModel",
          "model_module_version": "1.5.0",
          "state": {
            "_dom_classes": [],
            "_model_module": "@jupyter-widgets/controls",
            "_model_module_version": "1.5.0",
            "_model_name": "FloatProgressModel",
            "_view_count": null,
            "_view_module": "@jupyter-widgets/controls",
            "_view_module_version": "1.5.0",
            "_view_name": "ProgressView",
            "bar_style": "success",
            "description": "",
            "description_tooltip": null,
            "layout": "IPY_MODEL_f976eb54f46448f0afde95559b11720a",
            "max": 169001437,
            "min": 0,
            "orientation": "horizontal",
            "style": "IPY_MODEL_a0ab17a8adfc4bda8372b34ef8412c4e",
            "value": 169001437
          }
        },
        "b60bffeb2a43458aa3beb24a22a53118": {
          "model_module": "@jupyter-widgets/controls",
          "model_name": "HTMLModel",
          "model_module_version": "1.5.0",
          "state": {
            "_dom_classes": [],
            "_model_module": "@jupyter-widgets/controls",
            "_model_module_version": "1.5.0",
            "_model_name": "HTMLModel",
            "_view_count": null,
            "_view_module": "@jupyter-widgets/controls",
            "_view_module_version": "1.5.0",
            "_view_name": "HTMLView",
            "description": "",
            "description_tooltip": null,
            "layout": "IPY_MODEL_8e3002967d6f48d393dee85fc7915549",
            "placeholder": "​",
            "style": "IPY_MODEL_3ade31a6a23e4aaebd533b5dcb5c2509",
            "value": " 169001984/? [00:02&lt;00:00, 63125544.81it/s]"
          }
        },
        "c62fd613704b472a921e97bcf74031ea": {
          "model_module": "@jupyter-widgets/base",
          "model_name": "LayoutModel",
          "model_module_version": "1.2.0",
          "state": {
            "_model_module": "@jupyter-widgets/base",
            "_model_module_version": "1.2.0",
            "_model_name": "LayoutModel",
            "_view_count": null,
            "_view_module": "@jupyter-widgets/base",
            "_view_module_version": "1.2.0",
            "_view_name": "LayoutView",
            "align_content": null,
            "align_items": null,
            "align_self": null,
            "border": null,
            "bottom": null,
            "display": null,
            "flex": null,
            "flex_flow": null,
            "grid_area": null,
            "grid_auto_columns": null,
            "grid_auto_flow": null,
            "grid_auto_rows": null,
            "grid_column": null,
            "grid_gap": null,
            "grid_row": null,
            "grid_template_areas": null,
            "grid_template_columns": null,
            "grid_template_rows": null,
            "height": null,
            "justify_content": null,
            "justify_items": null,
            "left": null,
            "margin": null,
            "max_height": null,
            "max_width": null,
            "min_height": null,
            "min_width": null,
            "object_fit": null,
            "object_position": null,
            "order": null,
            "overflow": null,
            "overflow_x": null,
            "overflow_y": null,
            "padding": null,
            "right": null,
            "top": null,
            "visibility": null,
            "width": null
          }
        },
        "f3bd4c76572e4f9ebbd3414e9f9bdde0": {
          "model_module": "@jupyter-widgets/base",
          "model_name": "LayoutModel",
          "model_module_version": "1.2.0",
          "state": {
            "_model_module": "@jupyter-widgets/base",
            "_model_module_version": "1.2.0",
            "_model_name": "LayoutModel",
            "_view_count": null,
            "_view_module": "@jupyter-widgets/base",
            "_view_module_version": "1.2.0",
            "_view_name": "LayoutView",
            "align_content": null,
            "align_items": null,
            "align_self": null,
            "border": null,
            "bottom": null,
            "display": null,
            "flex": null,
            "flex_flow": null,
            "grid_area": null,
            "grid_auto_columns": null,
            "grid_auto_flow": null,
            "grid_auto_rows": null,
            "grid_column": null,
            "grid_gap": null,
            "grid_row": null,
            "grid_template_areas": null,
            "grid_template_columns": null,
            "grid_template_rows": null,
            "height": null,
            "justify_content": null,
            "justify_items": null,
            "left": null,
            "margin": null,
            "max_height": null,
            "max_width": null,
            "min_height": null,
            "min_width": null,
            "object_fit": null,
            "object_position": null,
            "order": null,
            "overflow": null,
            "overflow_x": null,
            "overflow_y": null,
            "padding": null,
            "right": null,
            "top": null,
            "visibility": null,
            "width": null
          }
        },
        "0e6654ab0c594331a4fc5e6fff59ccc7": {
          "model_module": "@jupyter-widgets/controls",
          "model_name": "DescriptionStyleModel",
          "model_module_version": "1.5.0",
          "state": {
            "_model_module": "@jupyter-widgets/controls",
            "_model_module_version": "1.5.0",
            "_model_name": "DescriptionStyleModel",
            "_view_count": null,
            "_view_module": "@jupyter-widgets/base",
            "_view_module_version": "1.2.0",
            "_view_name": "StyleView",
            "description_width": ""
          }
        },
        "f976eb54f46448f0afde95559b11720a": {
          "model_module": "@jupyter-widgets/base",
          "model_name": "LayoutModel",
          "model_module_version": "1.2.0",
          "state": {
            "_model_module": "@jupyter-widgets/base",
            "_model_module_version": "1.2.0",
            "_model_name": "LayoutModel",
            "_view_count": null,
            "_view_module": "@jupyter-widgets/base",
            "_view_module_version": "1.2.0",
            "_view_name": "LayoutView",
            "align_content": null,
            "align_items": null,
            "align_self": null,
            "border": null,
            "bottom": null,
            "display": null,
            "flex": null,
            "flex_flow": null,
            "grid_area": null,
            "grid_auto_columns": null,
            "grid_auto_flow": null,
            "grid_auto_rows": null,
            "grid_column": null,
            "grid_gap": null,
            "grid_row": null,
            "grid_template_areas": null,
            "grid_template_columns": null,
            "grid_template_rows": null,
            "height": null,
            "justify_content": null,
            "justify_items": null,
            "left": null,
            "margin": null,
            "max_height": null,
            "max_width": null,
            "min_height": null,
            "min_width": null,
            "object_fit": null,
            "object_position": null,
            "order": null,
            "overflow": null,
            "overflow_x": null,
            "overflow_y": null,
            "padding": null,
            "right": null,
            "top": null,
            "visibility": null,
            "width": null
          }
        },
        "a0ab17a8adfc4bda8372b34ef8412c4e": {
          "model_module": "@jupyter-widgets/controls",
          "model_name": "ProgressStyleModel",
          "model_module_version": "1.5.0",
          "state": {
            "_model_module": "@jupyter-widgets/controls",
            "_model_module_version": "1.5.0",
            "_model_name": "ProgressStyleModel",
            "_view_count": null,
            "_view_module": "@jupyter-widgets/base",
            "_view_module_version": "1.2.0",
            "_view_name": "StyleView",
            "bar_color": null,
            "description_width": ""
          }
        },
        "8e3002967d6f48d393dee85fc7915549": {
          "model_module": "@jupyter-widgets/base",
          "model_name": "LayoutModel",
          "model_module_version": "1.2.0",
          "state": {
            "_model_module": "@jupyter-widgets/base",
            "_model_module_version": "1.2.0",
            "_model_name": "LayoutModel",
            "_view_count": null,
            "_view_module": "@jupyter-widgets/base",
            "_view_module_version": "1.2.0",
            "_view_name": "LayoutView",
            "align_content": null,
            "align_items": null,
            "align_self": null,
            "border": null,
            "bottom": null,
            "display": null,
            "flex": null,
            "flex_flow": null,
            "grid_area": null,
            "grid_auto_columns": null,
            "grid_auto_flow": null,
            "grid_auto_rows": null,
            "grid_column": null,
            "grid_gap": null,
            "grid_row": null,
            "grid_template_areas": null,
            "grid_template_columns": null,
            "grid_template_rows": null,
            "height": null,
            "justify_content": null,
            "justify_items": null,
            "left": null,
            "margin": null,
            "max_height": null,
            "max_width": null,
            "min_height": null,
            "min_width": null,
            "object_fit": null,
            "object_position": null,
            "order": null,
            "overflow": null,
            "overflow_x": null,
            "overflow_y": null,
            "padding": null,
            "right": null,
            "top": null,
            "visibility": null,
            "width": null
          }
        },
        "3ade31a6a23e4aaebd533b5dcb5c2509": {
          "model_module": "@jupyter-widgets/controls",
          "model_name": "DescriptionStyleModel",
          "model_module_version": "1.5.0",
          "state": {
            "_model_module": "@jupyter-widgets/controls",
            "_model_module_version": "1.5.0",
            "_model_name": "DescriptionStyleModel",
            "_view_count": null,
            "_view_module": "@jupyter-widgets/base",
            "_view_module_version": "1.2.0",
            "_view_name": "StyleView",
            "description_width": ""
          }
        },
        "ee1e3750ea0140ca988711268d976751": {
          "model_module": "@jupyter-widgets/controls",
          "model_name": "HBoxModel",
          "model_module_version": "1.5.0",
          "state": {
            "_dom_classes": [],
            "_model_module": "@jupyter-widgets/controls",
            "_model_module_version": "1.5.0",
            "_model_name": "HBoxModel",
            "_view_count": null,
            "_view_module": "@jupyter-widgets/controls",
            "_view_module_version": "1.5.0",
            "_view_name": "HBoxView",
            "box_style": "",
            "children": [
              "IPY_MODEL_aa57bca6e6294d358265ad7a48171050",
              "IPY_MODEL_e90e6f8fa743422795d849195e1548dd",
              "IPY_MODEL_a63e76ec8ad04f25a954b5e85900180c"
            ],
            "layout": "IPY_MODEL_6697988acf12494a8b07c22616fb1777"
          }
        },
        "aa57bca6e6294d358265ad7a48171050": {
          "model_module": "@jupyter-widgets/controls",
          "model_name": "HTMLModel",
          "model_module_version": "1.5.0",
          "state": {
            "_dom_classes": [],
            "_model_module": "@jupyter-widgets/controls",
            "_model_module_version": "1.5.0",
            "_model_name": "HTMLModel",
            "_view_count": null,
            "_view_module": "@jupyter-widgets/controls",
            "_view_module_version": "1.5.0",
            "_view_name": "HTMLView",
            "description": "",
            "description_tooltip": null,
            "layout": "IPY_MODEL_5cac2bb8c32e46278b6f7c4a37567d5c",
            "placeholder": "​",
            "style": "IPY_MODEL_8e28678ff55a48e792b3885409428d38",
            "value": "100%"
          }
        },
        "e90e6f8fa743422795d849195e1548dd": {
          "model_module": "@jupyter-widgets/controls",
          "model_name": "FloatProgressModel",
          "model_module_version": "1.5.0",
          "state": {
            "_dom_classes": [],
            "_model_module": "@jupyter-widgets/controls",
            "_model_module_version": "1.5.0",
            "_model_name": "FloatProgressModel",
            "_view_count": null,
            "_view_module": "@jupyter-widgets/controls",
            "_view_module_version": "1.5.0",
            "_view_name": "ProgressView",
            "bar_style": "success",
            "description": "",
            "description_tooltip": null,
            "layout": "IPY_MODEL_8af9ee7ad7b646cf9326e79f7cbe5f0c",
            "max": 102530333,
            "min": 0,
            "orientation": "horizontal",
            "style": "IPY_MODEL_00fcc83dad574f68b965ec4004d1ea64",
            "value": 102530333
          }
        },
        "a63e76ec8ad04f25a954b5e85900180c": {
          "model_module": "@jupyter-widgets/controls",
          "model_name": "HTMLModel",
          "model_module_version": "1.5.0",
          "state": {
            "_dom_classes": [],
            "_model_module": "@jupyter-widgets/controls",
            "_model_module_version": "1.5.0",
            "_model_name": "HTMLModel",
            "_view_count": null,
            "_view_module": "@jupyter-widgets/controls",
            "_view_module_version": "1.5.0",
            "_view_name": "HTMLView",
            "description": "",
            "description_tooltip": null,
            "layout": "IPY_MODEL_83b8acb275684c9b97bec26f42a8634a",
            "placeholder": "​",
            "style": "IPY_MODEL_c63180b952154c0baaea364e9bb3e553",
            "value": " 97.8M/97.8M [00:01&lt;00:00, 84.1MB/s]"
          }
        },
        "6697988acf12494a8b07c22616fb1777": {
          "model_module": "@jupyter-widgets/base",
          "model_name": "LayoutModel",
          "model_module_version": "1.2.0",
          "state": {
            "_model_module": "@jupyter-widgets/base",
            "_model_module_version": "1.2.0",
            "_model_name": "LayoutModel",
            "_view_count": null,
            "_view_module": "@jupyter-widgets/base",
            "_view_module_version": "1.2.0",
            "_view_name": "LayoutView",
            "align_content": null,
            "align_items": null,
            "align_self": null,
            "border": null,
            "bottom": null,
            "display": null,
            "flex": null,
            "flex_flow": null,
            "grid_area": null,
            "grid_auto_columns": null,
            "grid_auto_flow": null,
            "grid_auto_rows": null,
            "grid_column": null,
            "grid_gap": null,
            "grid_row": null,
            "grid_template_areas": null,
            "grid_template_columns": null,
            "grid_template_rows": null,
            "height": null,
            "justify_content": null,
            "justify_items": null,
            "left": null,
            "margin": null,
            "max_height": null,
            "max_width": null,
            "min_height": null,
            "min_width": null,
            "object_fit": null,
            "object_position": null,
            "order": null,
            "overflow": null,
            "overflow_x": null,
            "overflow_y": null,
            "padding": null,
            "right": null,
            "top": null,
            "visibility": null,
            "width": null
          }
        },
        "5cac2bb8c32e46278b6f7c4a37567d5c": {
          "model_module": "@jupyter-widgets/base",
          "model_name": "LayoutModel",
          "model_module_version": "1.2.0",
          "state": {
            "_model_module": "@jupyter-widgets/base",
            "_model_module_version": "1.2.0",
            "_model_name": "LayoutModel",
            "_view_count": null,
            "_view_module": "@jupyter-widgets/base",
            "_view_module_version": "1.2.0",
            "_view_name": "LayoutView",
            "align_content": null,
            "align_items": null,
            "align_self": null,
            "border": null,
            "bottom": null,
            "display": null,
            "flex": null,
            "flex_flow": null,
            "grid_area": null,
            "grid_auto_columns": null,
            "grid_auto_flow": null,
            "grid_auto_rows": null,
            "grid_column": null,
            "grid_gap": null,
            "grid_row": null,
            "grid_template_areas": null,
            "grid_template_columns": null,
            "grid_template_rows": null,
            "height": null,
            "justify_content": null,
            "justify_items": null,
            "left": null,
            "margin": null,
            "max_height": null,
            "max_width": null,
            "min_height": null,
            "min_width": null,
            "object_fit": null,
            "object_position": null,
            "order": null,
            "overflow": null,
            "overflow_x": null,
            "overflow_y": null,
            "padding": null,
            "right": null,
            "top": null,
            "visibility": null,
            "width": null
          }
        },
        "8e28678ff55a48e792b3885409428d38": {
          "model_module": "@jupyter-widgets/controls",
          "model_name": "DescriptionStyleModel",
          "model_module_version": "1.5.0",
          "state": {
            "_model_module": "@jupyter-widgets/controls",
            "_model_module_version": "1.5.0",
            "_model_name": "DescriptionStyleModel",
            "_view_count": null,
            "_view_module": "@jupyter-widgets/base",
            "_view_module_version": "1.2.0",
            "_view_name": "StyleView",
            "description_width": ""
          }
        },
        "8af9ee7ad7b646cf9326e79f7cbe5f0c": {
          "model_module": "@jupyter-widgets/base",
          "model_name": "LayoutModel",
          "model_module_version": "1.2.0",
          "state": {
            "_model_module": "@jupyter-widgets/base",
            "_model_module_version": "1.2.0",
            "_model_name": "LayoutModel",
            "_view_count": null,
            "_view_module": "@jupyter-widgets/base",
            "_view_module_version": "1.2.0",
            "_view_name": "LayoutView",
            "align_content": null,
            "align_items": null,
            "align_self": null,
            "border": null,
            "bottom": null,
            "display": null,
            "flex": null,
            "flex_flow": null,
            "grid_area": null,
            "grid_auto_columns": null,
            "grid_auto_flow": null,
            "grid_auto_rows": null,
            "grid_column": null,
            "grid_gap": null,
            "grid_row": null,
            "grid_template_areas": null,
            "grid_template_columns": null,
            "grid_template_rows": null,
            "height": null,
            "justify_content": null,
            "justify_items": null,
            "left": null,
            "margin": null,
            "max_height": null,
            "max_width": null,
            "min_height": null,
            "min_width": null,
            "object_fit": null,
            "object_position": null,
            "order": null,
            "overflow": null,
            "overflow_x": null,
            "overflow_y": null,
            "padding": null,
            "right": null,
            "top": null,
            "visibility": null,
            "width": null
          }
        },
        "00fcc83dad574f68b965ec4004d1ea64": {
          "model_module": "@jupyter-widgets/controls",
          "model_name": "ProgressStyleModel",
          "model_module_version": "1.5.0",
          "state": {
            "_model_module": "@jupyter-widgets/controls",
            "_model_module_version": "1.5.0",
            "_model_name": "ProgressStyleModel",
            "_view_count": null,
            "_view_module": "@jupyter-widgets/base",
            "_view_module_version": "1.2.0",
            "_view_name": "StyleView",
            "bar_color": null,
            "description_width": ""
          }
        },
        "83b8acb275684c9b97bec26f42a8634a": {
          "model_module": "@jupyter-widgets/base",
          "model_name": "LayoutModel",
          "model_module_version": "1.2.0",
          "state": {
            "_model_module": "@jupyter-widgets/base",
            "_model_module_version": "1.2.0",
            "_model_name": "LayoutModel",
            "_view_count": null,
            "_view_module": "@jupyter-widgets/base",
            "_view_module_version": "1.2.0",
            "_view_name": "LayoutView",
            "align_content": null,
            "align_items": null,
            "align_self": null,
            "border": null,
            "bottom": null,
            "display": null,
            "flex": null,
            "flex_flow": null,
            "grid_area": null,
            "grid_auto_columns": null,
            "grid_auto_flow": null,
            "grid_auto_rows": null,
            "grid_column": null,
            "grid_gap": null,
            "grid_row": null,
            "grid_template_areas": null,
            "grid_template_columns": null,
            "grid_template_rows": null,
            "height": null,
            "justify_content": null,
            "justify_items": null,
            "left": null,
            "margin": null,
            "max_height": null,
            "max_width": null,
            "min_height": null,
            "min_width": null,
            "object_fit": null,
            "object_position": null,
            "order": null,
            "overflow": null,
            "overflow_x": null,
            "overflow_y": null,
            "padding": null,
            "right": null,
            "top": null,
            "visibility": null,
            "width": null
          }
        },
        "c63180b952154c0baaea364e9bb3e553": {
          "model_module": "@jupyter-widgets/controls",
          "model_name": "DescriptionStyleModel",
          "model_module_version": "1.5.0",
          "state": {
            "_model_module": "@jupyter-widgets/controls",
            "_model_module_version": "1.5.0",
            "_model_name": "DescriptionStyleModel",
            "_view_count": null,
            "_view_module": "@jupyter-widgets/base",
            "_view_module_version": "1.2.0",
            "_view_name": "StyleView",
            "description_width": ""
          }
        }
      }
    }
  },
  "cells": [
    {
      "cell_type": "markdown",
      "source": [
        "##Фреймворк PyTorch для разработки искусственных нейронных сетей\n",
        "\n",
        "Обучите CNN (самописная) на CIFAR-100.\n",
        "\n",
        "Обучите CNN на CIFAR-100 через дообучение ImageNet Resnet-50.\n",
        "\n",
        "*Обучите CNN на CIFAR-100 через дообучение ImageNet Resnet-50 с аугментацией данных.\n",
        "\n"
      ],
      "metadata": {
        "id": "VVOzV7pgIKYP"
      }
    },
    {
      "cell_type": "code",
      "execution_count": 1,
      "metadata": {
        "id": "XKCsl8lIF8kT"
      },
      "outputs": [],
      "source": [
        "import numpy as np\n",
        "import torch\n",
        "\n",
        "from torch import nn\n",
        "from torch.nn import functional as F\n",
        "from PIL import Image\n",
        "from torchvision import transforms, datasets, models\n",
        "\n",
        "from sklearn.model_selection import train_test_split\n",
        "\n",
        "import matplotlib.pyplot as plt"
      ]
    },
    {
      "cell_type": "code",
      "source": [
        "device = 'cuda' if torch.cuda.is_available() else 'cpu'\n",
        "device"
      ],
      "metadata": {
        "colab": {
          "base_uri": "https://localhost:8080/",
          "height": 35
        },
        "id": "ObtDN0FuGK00",
        "outputId": "e0b75088-3ff4-4e2f-86cb-9cf37a63d013"
      },
      "execution_count": 2,
      "outputs": [
        {
          "output_type": "execute_result",
          "data": {
            "text/plain": [
              "'cuda'"
            ],
            "application/vnd.google.colaboratory.intrinsic+json": {
              "type": "string"
            }
          },
          "metadata": {},
          "execution_count": 2
        }
      ]
    },
    {
      "cell_type": "code",
      "source": [
        "def train_eval_model(net, num_epochs, train_loader, valid_loader):\n",
        "    for epoch in range(num_epochs):  \n",
        "        net.train()\n",
        "        running_loss, running_items, running_right = 0.0, 0.0, 0.0\n",
        "        for i, data in enumerate(train_loader, 0):\n",
        "            inputs, labels = data[0].to(device), data[1].to(device)\n",
        "\n",
        "            # обучение\n",
        "            optimizer.zero_grad()\n",
        "            outputs = net(inputs)\n",
        "            loss = criterion(outputs, labels)\n",
        "            loss.backward()\n",
        "            optimizer.step()\n",
        "\n",
        "            # выводим статистику о процессе обучения\n",
        "            running_loss += loss.item()\n",
        "            running_items += len(labels)\n",
        "            running_right += (labels == torch.max(outputs, 1)[1]).sum()\n",
        "\n",
        "            # выводим статистику о процессе обучения\n",
        "            if i % 300 == 0:    # печатаем каждые 300 mini-batches\n",
        "                net.eval()\n",
        "\n",
        "                print(f'Epoch [{epoch + 1}/{num_epochs}]. ' \\\n",
        "                      f'Step [{i + 1}/{len(train_loader)}]. ' \\\n",
        "                      f'Loss: {running_loss / running_items:.3f}. ' \\\n",
        "                      f'Acc: {running_right / running_items:.3f}', end='. ')\n",
        "                running_loss, running_items, running_right = 0.0, 0.0, 0.0\n",
        "\n",
        "                test_running_right, test_running_total = 0.0, 0.0\n",
        "                for i, data in enumerate(valid_loader):\n",
        "\n",
        "                    test_outputs = net(data[0].to(device))\n",
        "                    test_running_total += len(data[1])\n",
        "                    test_running_right += (data[1].to(device) == torch.max(test_outputs, 1)[1]).sum()\n",
        "\n",
        "                print(f'Test acc: {test_running_right / test_running_total:.3f}')\n",
        "\n",
        "    print('Training is finished!')"
      ],
      "metadata": {
        "id": "fI-hDLe_Hqbl"
      },
      "execution_count": 3,
      "outputs": []
    },
    {
      "cell_type": "code",
      "source": [
        "import ssl\n",
        "\n",
        "ssl._create_default_https_context = ssl._create_unverified_context\n",
        "\n",
        "dataset = datasets.CIFAR100(root='data/',\n",
        "                            train=True, \n",
        "                            download=True)"
      ],
      "metadata": {
        "colab": {
          "base_uri": "https://localhost:8080/",
          "height": 84,
          "referenced_widgets": [
            "aaa1367fcd184683a87eef87dc98784e",
            "e2917c0c780d418a909b288037bfd5f3",
            "4ca6baca053341a68b5372b136ab65fe",
            "b60bffeb2a43458aa3beb24a22a53118",
            "c62fd613704b472a921e97bcf74031ea",
            "f3bd4c76572e4f9ebbd3414e9f9bdde0",
            "0e6654ab0c594331a4fc5e6fff59ccc7",
            "f976eb54f46448f0afde95559b11720a",
            "a0ab17a8adfc4bda8372b34ef8412c4e",
            "8e3002967d6f48d393dee85fc7915549",
            "3ade31a6a23e4aaebd533b5dcb5c2509"
          ]
        },
        "id": "v8GWJ77WIET4",
        "outputId": "b7790621-6ea5-4480-96e9-9e4c3459561e"
      },
      "execution_count": 4,
      "outputs": [
        {
          "output_type": "stream",
          "name": "stdout",
          "text": [
            "Downloading https://www.cs.toronto.edu/~kriz/cifar-100-python.tar.gz to data/cifar-100-python.tar.gz\n"
          ]
        },
        {
          "output_type": "display_data",
          "data": {
            "text/plain": [
              "  0%|          | 0/169001437 [00:00<?, ?it/s]"
            ],
            "application/vnd.jupyter.widget-view+json": {
              "version_major": 2,
              "version_minor": 0,
              "model_id": "aaa1367fcd184683a87eef87dc98784e"
            }
          },
          "metadata": {}
        },
        {
          "output_type": "stream",
          "name": "stdout",
          "text": [
            "Extracting data/cifar-100-python.tar.gz to data/\n"
          ]
        }
      ]
    },
    {
      "cell_type": "code",
      "source": [
        "classes = ('apple', 'aquarium_fish', 'baby', 'bear', 'beaver', 'bed', 'bee', 'beetle', \n",
        "    'bicycle', 'bottle', 'bowl', 'boy', 'bridge', 'bus', 'butterfly', 'camel', \n",
        "    'can', 'castle', 'caterpillar', 'cattle', 'chair', 'chimpanzee', 'clock', \n",
        "    'cloud', 'cockroach', 'couch', 'crab', 'crocodile', 'cup', 'dinosaur', \n",
        "    'dolphin', 'elephant', 'flatfish', 'forest', 'fox', 'girl', 'hamster', \n",
        "    'house', 'kangaroo', 'keyboard', 'lamp', 'lawn_mower', 'leopard', 'lion',\n",
        "    'lizard', 'lobster', 'man', 'maple_tree', 'motorcycle', 'mountain', 'mouse',\n",
        "    'mushroom', 'oak_tree', 'orange', 'orchid', 'otter', 'palm_tree', 'pear',\n",
        "    'pickup_truck', 'pine_tree', 'plain', 'plate', 'poppy', 'porcupine',\n",
        "    'possum', 'rabbit', 'raccoon', 'ray', 'road', 'rocket', 'rose',\n",
        "    'sea', 'seal', 'shark', 'shrew', 'skunk', 'skyscraper', 'snail', 'snake',\n",
        "    'spider', 'squirrel', 'streetcar', 'sunflower', 'sweet_pepper', 'table',\n",
        "    'tank', 'telephone', 'television', 'tiger', 'tractor', 'train', 'trout',\n",
        "    'tulip', 'turtle', 'wardrobe', 'whale', 'willow_tree', 'wolf', 'woman',\n",
        "    'worm')"
      ],
      "metadata": {
        "id": "dZV2drxJIZ6E"
      },
      "execution_count": 5,
      "outputs": []
    },
    {
      "cell_type": "code",
      "source": [
        "figure = plt.figure(figsize=(8, 8))\n",
        "cols, rows = 3, 3\n",
        "for i in range(1, cols * rows + 1):\n",
        "    sample_idx = torch.randint(len(dataset), size=(1,)).item()\n",
        "    img, label = dataset[sample_idx]\n",
        "    figure.add_subplot(rows, cols, i)\n",
        "    plt.title(classes[label])\n",
        "    plt.axis(\"off\")\n",
        "    plt.imshow(img)\n",
        "plt.show()"
      ],
      "metadata": {
        "colab": {
          "base_uri": "https://localhost:8080/",
          "height": 482
        },
        "id": "htTK50c7IfGL",
        "outputId": "8d8e76f7-9e96-44cd-8b09-20e0bd855b44"
      },
      "execution_count": 6,
      "outputs": [
        {
          "output_type": "display_data",
          "data": {
            "text/plain": [
              "<Figure size 576x576 with 9 Axes>"
            ],
            "image/png": "[encoded data removed]"
          },
          "metadata": {
            "needs_background": "light"
          }
        }
      ]
    },
    {
      "cell_type": "code",
      "source": [
        "# разбиваем на train и test\n",
        "def train_valid_split(Xt):\n",
        "    X_train, X_test = train_test_split(Xt, test_size=0.05, random_state=13)\n",
        "    return X_train, X_test\n",
        "\n",
        "#класс датасета\n",
        "class MyOwnCifar(torch.utils.data.Dataset):\n",
        "   \n",
        "    def __init__(self, init_dataset, transform=None):\n",
        "        self._base_dataset = init_dataset\n",
        "        self.transform = transform\n",
        "\n",
        "    def __len__(self):\n",
        "        return len(self._base_dataset)\n",
        "\n",
        "    def __getitem__(self, idx):\n",
        "        img = self._base_dataset[idx][0]  #извлекаем картинку\n",
        "        if self.transform is not None:\n",
        "            img = self.transform(img)\n",
        "        label = self._base_dataset[idx][1] #извлекаем класс\n",
        "        return img, label\n",
        "\n",
        "#преобразования датасета\n",
        "trans_actions = transforms.Compose([transforms.Resize(44),\n",
        "                                    transforms.RandomCrop(32, padding=4), \n",
        "                                    transforms.ToTensor()])"
      ],
      "metadata": {
        "id": "dw0wcRYdIjWS"
      },
      "execution_count": 7,
      "outputs": []
    },
    {
      "cell_type": "code",
      "source": [
        "#разбиваем датасет\n",
        "train_dataset, valid_dataset = train_valid_split(dataset)\n",
        "\n",
        "#формируем экземпляры классов (тензор, класс)\n",
        "train_dataset = MyOwnCifar(train_dataset, trans_actions)\n",
        "valid_dataset = MyOwnCifar(valid_dataset, transforms.ToTensor())\n",
        "print('Количество экземплятов в тренировочном датасете: ', len(train_dataset))\n",
        "print('Количество экземплятов в валидационном датасете: ', len(valid_dataset))\n",
        "\n",
        "#итераторы для работы с датасетом\n",
        "train_loader = torch.utils.data.DataLoader(train_dataset,\n",
        "                          batch_size=128,\n",
        "                          shuffle=True,\n",
        "                          num_workers=0)\n",
        "valid_loader = torch.utils.data.DataLoader(valid_dataset,\n",
        "                          batch_size=128,\n",
        "                          shuffle=False,\n",
        "                          num_workers=0)"
      ],
      "metadata": {
        "colab": {
          "base_uri": "https://localhost:8080/"
        },
        "id": "NBQRluy8I5B2",
        "outputId": "d4622245-cbda-426f-af86-2fc33d4a9a36"
      },
      "execution_count": 8,
      "outputs": [
        {
          "output_type": "stream",
          "name": "stdout",
          "text": [
            "Количество экземплятов в тренировочном датасете:  47500\n",
            "Количество экземплятов в валидационном датасете:  2500\n"
          ]
        }
      ]
    },
    {
      "cell_type": "code",
      "source": [
        "#тензоры и классы\n",
        "# один объект в train_loader -- это\n",
        "#батч 128 из тензора размера (3,32,32), 128 меток классов\n",
        "train_features, train_labels = next(iter(train_loader))\n",
        "print(train_features.shape, train_labels.shape)\n",
        "train_features, train_labels"
      ],
      "metadata": {
        "colab": {
          "base_uri": "https://localhost:8080/"
        },
        "id": "_6dns5SJI8Yl",
        "outputId": "783fe9ff-99c4-4314-edb3-5cc05881c2c5"
      },
      "execution_count": 9,
      "outputs": [
        {
          "output_type": "stream",
          "name": "stdout",
          "text": [
            "torch.Size([128, 3, 32, 32]) torch.Size([128])\n"
          ]
        },
        {
          "output_type": "execute_result",
          "data": {
            "text/plain": [
              "(tensor([[[[0.0627, 0.0667, 0.0667,  ..., 0.1922, 0.1882, 0.1961],\n",
              "           [0.0549, 0.0588, 0.0588,  ..., 0.2078, 0.2039, 0.2196],\n",
              "           [0.0510, 0.0549, 0.0549,  ..., 0.1647, 0.1765, 0.2000],\n",
              "           ...,\n",
              "           [0.2510, 0.2824, 0.2863,  ..., 0.3098, 0.3255, 0.3294],\n",
              "           [0.2039, 0.2353, 0.2431,  ..., 0.3098, 0.3373, 0.3569],\n",
              "           [0.1569, 0.1686, 0.1765,  ..., 0.3373, 0.3647, 0.3804]],\n",
              " \n",
              "          [[0.0745, 0.0784, 0.0784,  ..., 0.3647, 0.3843, 0.4078],\n",
              "           [0.0627, 0.0706, 0.0706,  ..., 0.4000, 0.4118, 0.4392],\n",
              "           [0.0588, 0.0627, 0.0627,  ..., 0.3059, 0.3255, 0.3765],\n",
              "           ...,\n",
              "           [0.3686, 0.4039, 0.4039,  ..., 0.3647, 0.3765, 0.3843],\n",
              "           [0.3098, 0.3412, 0.3412,  ..., 0.3647, 0.3922, 0.4118],\n",
              "           [0.2392, 0.2549, 0.2627,  ..., 0.3843, 0.4196, 0.4353]],\n",
              " \n",
              "          [[0.0431, 0.0431, 0.0392,  ..., 0.1020, 0.0863, 0.0941],\n",
              "           [0.0392, 0.0392, 0.0392,  ..., 0.1294, 0.1059, 0.1176],\n",
              "           [0.0431, 0.0431, 0.0392,  ..., 0.1098, 0.0941, 0.1098],\n",
              "           ...,\n",
              "           [0.2196, 0.2667, 0.2824,  ..., 0.2784, 0.2980, 0.3020],\n",
              "           [0.2157, 0.2510, 0.2588,  ..., 0.2706, 0.3020, 0.3176],\n",
              "           [0.2196, 0.2196, 0.2157,  ..., 0.3020, 0.3333, 0.3451]]],\n",
              " \n",
              " \n",
              "         [[[0.4745, 0.4745, 0.4706,  ..., 0.4667, 0.4667, 0.4667],\n",
              "           [0.4745, 0.4745, 0.4745,  ..., 0.4667, 0.4667, 0.4667],\n",
              "           [0.4706, 0.4706, 0.4706,  ..., 0.4588, 0.4588, 0.4588],\n",
              "           ...,\n",
              "           [0.5216, 0.4784, 0.4314,  ..., 0.8392, 0.8353, 0.8118],\n",
              "           [0.5882, 0.5373, 0.4863,  ..., 0.8431, 0.8471, 0.8235],\n",
              "           [0.6314, 0.5882, 0.5412,  ..., 0.8157, 0.8078, 0.7725]],\n",
              " \n",
              "          [[0.7412, 0.7412, 0.7412,  ..., 0.7529, 0.7529, 0.7529],\n",
              "           [0.7412, 0.7451, 0.7451,  ..., 0.7529, 0.7529, 0.7529],\n",
              "           [0.7373, 0.7412, 0.7412,  ..., 0.7490, 0.7490, 0.7490],\n",
              "           ...,\n",
              "           [0.4314, 0.4000, 0.3725,  ..., 0.6784, 0.6745, 0.6510],\n",
              "           [0.4353, 0.4157, 0.3922,  ..., 0.6667, 0.6745, 0.6471],\n",
              "           [0.4627, 0.4431, 0.4196,  ..., 0.6353, 0.6314, 0.5922]],\n",
              " \n",
              "          [[0.7961, 0.8000, 0.8000,  ..., 0.8118, 0.8118, 0.8118],\n",
              "           [0.8000, 0.8039, 0.8039,  ..., 0.8118, 0.8118, 0.8118],\n",
              "           [0.7922, 0.7961, 0.8000,  ..., 0.8078, 0.8039, 0.8039],\n",
              "           ...,\n",
              "           [0.3765, 0.3373, 0.3137,  ..., 0.5569, 0.5569, 0.5373],\n",
              "           [0.3490, 0.3373, 0.3255,  ..., 0.5333, 0.5412, 0.5176],\n",
              "           [0.3686, 0.3569, 0.3412,  ..., 0.4863, 0.4824, 0.4392]]],\n",
              " \n",
              " \n",
              "         [[[0.3255, 0.3412, 0.3529,  ..., 0.3725, 0.3804, 0.3843],\n",
              "           [0.3255, 0.3412, 0.3569,  ..., 0.3804, 0.3804, 0.3843],\n",
              "           [0.3255, 0.3412, 0.3569,  ..., 0.3843, 0.3804, 0.3804],\n",
              "           ...,\n",
              "           [0.3608, 0.3647, 0.3647,  ..., 0.5608, 0.5059, 0.4549],\n",
              "           [0.3569, 0.3686, 0.3843,  ..., 0.5020, 0.4314, 0.3922],\n",
              "           [0.3686, 0.3922, 0.4235,  ..., 0.3882, 0.3529, 0.3490]],\n",
              " \n",
              "          [[0.3569, 0.3647, 0.3765,  ..., 0.4235, 0.4275, 0.4314],\n",
              "           [0.3608, 0.3686, 0.3804,  ..., 0.4196, 0.4235, 0.4314],\n",
              "           [0.3686, 0.3725, 0.3843,  ..., 0.4196, 0.4235, 0.4314],\n",
              "           ...,\n",
              "           [0.4157, 0.4157, 0.4118,  ..., 0.5176, 0.4706, 0.4431],\n",
              "           [0.3882, 0.3843, 0.3882,  ..., 0.4627, 0.4314, 0.4196],\n",
              "           [0.3412, 0.3529, 0.3686,  ..., 0.3961, 0.4118, 0.4235]],\n",
              " \n",
              "          [[0.4588, 0.4549, 0.4667,  ..., 0.5961, 0.6118, 0.6157],\n",
              "           [0.4667, 0.4667, 0.4824,  ..., 0.5922, 0.6039, 0.6118],\n",
              "           [0.4824, 0.4863, 0.4980,  ..., 0.6000, 0.6078, 0.6157],\n",
              "           ...,\n",
              "           [0.5490, 0.5490, 0.5451,  ..., 0.4667, 0.4706, 0.5020],\n",
              "           [0.4471, 0.4431, 0.4392,  ..., 0.4353, 0.5059, 0.5647],\n",
              "           [0.3020, 0.2980, 0.3020,  ..., 0.4824, 0.5922, 0.6431]]],\n",
              " \n",
              " \n",
              "         ...,\n",
              " \n",
              " \n",
              "         [[[0.1882, 0.2275, 0.2549,  ..., 0.1961, 0.1961, 0.2000],\n",
              "           [0.1961, 0.2392, 0.2706,  ..., 0.2000, 0.1961, 0.2000],\n",
              "           [0.2196, 0.2588, 0.2824,  ..., 0.2000, 0.2000, 0.2039],\n",
              "           ...,\n",
              "           [0.0941, 0.0941, 0.0902,  ..., 0.2157, 0.0941, 0.0353],\n",
              "           [0.0980, 0.0941, 0.0941,  ..., 0.1647, 0.0745, 0.0353],\n",
              "           [0.1059, 0.1020, 0.1059,  ..., 0.1176, 0.0588, 0.0353]],\n",
              " \n",
              "          [[0.2196, 0.2706, 0.3059,  ..., 0.2157, 0.2196, 0.2235],\n",
              "           [0.2314, 0.2784, 0.3176,  ..., 0.2353, 0.2314, 0.2314],\n",
              "           [0.2627, 0.3020, 0.3255,  ..., 0.2549, 0.2510, 0.2471],\n",
              "           ...,\n",
              "           [0.0941, 0.0941, 0.0941,  ..., 0.2157, 0.1020, 0.0431],\n",
              "           [0.0941, 0.0941, 0.0941,  ..., 0.1686, 0.0824, 0.0431],\n",
              "           [0.1020, 0.1020, 0.1020,  ..., 0.1255, 0.0667, 0.0471]],\n",
              " \n",
              "          [[0.2667, 0.3255, 0.3725,  ..., 0.2824, 0.2863, 0.2902],\n",
              "           [0.2824, 0.3373, 0.3804,  ..., 0.3137, 0.3059, 0.3059],\n",
              "           [0.3216, 0.3647, 0.3922,  ..., 0.3451, 0.3373, 0.3294],\n",
              "           ...,\n",
              "           [0.1294, 0.1255, 0.1255,  ..., 0.2510, 0.1373, 0.0863],\n",
              "           [0.1333, 0.1294, 0.1255,  ..., 0.2078, 0.1216, 0.0863],\n",
              "           [0.1412, 0.1373, 0.1333,  ..., 0.1608, 0.1059, 0.0863]]],\n",
              " \n",
              " \n",
              "         [[[0.0000, 0.0000, 0.1059,  ..., 0.0471, 0.0471, 0.0510],\n",
              "           [0.0000, 0.0000, 0.1098,  ..., 0.0471, 0.0471, 0.0510],\n",
              "           [0.0000, 0.0000, 0.1020,  ..., 0.0471, 0.0471, 0.0549],\n",
              "           ...,\n",
              "           [0.0000, 0.0000, 0.1451,  ..., 0.1255, 0.2431, 0.5176],\n",
              "           [0.0000, 0.0000, 0.1412,  ..., 0.1137, 0.2078, 0.4549],\n",
              "           [0.0000, 0.0000, 0.1412,  ..., 0.0863, 0.1529, 0.3333]],\n",
              " \n",
              "          [[0.0000, 0.0000, 0.0784,  ..., 0.0196, 0.0118, 0.0039],\n",
              "           [0.0000, 0.0000, 0.0824,  ..., 0.0157, 0.0157, 0.0078],\n",
              "           [0.0000, 0.0000, 0.0745,  ..., 0.0157, 0.0157, 0.0078],\n",
              "           ...,\n",
              "           [0.0000, 0.0000, 0.0745,  ..., 0.0588, 0.1686, 0.4353],\n",
              "           [0.0000, 0.0000, 0.0784,  ..., 0.0510, 0.1412, 0.3843],\n",
              "           [0.0000, 0.0000, 0.0784,  ..., 0.0275, 0.0902, 0.2667]],\n",
              " \n",
              "          [[0.0000, 0.0000, 0.0627,  ..., 0.0078, 0.0078, 0.0118],\n",
              "           [0.0000, 0.0000, 0.0667,  ..., 0.0078, 0.0078, 0.0157],\n",
              "           [0.0000, 0.0000, 0.0588,  ..., 0.0078, 0.0078, 0.0157],\n",
              "           ...,\n",
              "           [0.0000, 0.0000, 0.0784,  ..., 0.0667, 0.1569, 0.3804],\n",
              "           [0.0000, 0.0000, 0.0784,  ..., 0.0667, 0.1333, 0.3412],\n",
              "           [0.0000, 0.0000, 0.0784,  ..., 0.0353, 0.0824, 0.2392]]],\n",
              " \n",
              " \n",
              "         [[[0.6353, 0.6588, 0.6549,  ..., 0.4118, 0.2980, 0.1922],\n",
              "           [0.6784, 0.7451, 0.7882,  ..., 0.4706, 0.4000, 0.2588],\n",
              "           [0.6667, 0.6784, 0.7451,  ..., 0.5686, 0.5020, 0.3412],\n",
              "           ...,\n",
              "           [0.3216, 0.2471, 0.2627,  ..., 0.2392, 0.2353, 0.2157],\n",
              "           [0.2118, 0.1569, 0.1961,  ..., 0.2784, 0.2824, 0.2510],\n",
              "           [0.0000, 0.0000, 0.0000,  ..., 0.0000, 0.0000, 0.0000]],\n",
              " \n",
              "          [[0.5373, 0.5412, 0.5216,  ..., 0.2784, 0.1804, 0.1098],\n",
              "           [0.6078, 0.6353, 0.6667,  ..., 0.3020, 0.2627, 0.1725],\n",
              "           [0.6000, 0.5686, 0.6118,  ..., 0.3098, 0.3098, 0.2196],\n",
              "           ...,\n",
              "           [0.2392, 0.1686, 0.1922,  ..., 0.1412, 0.1608, 0.1647],\n",
              "           [0.1412, 0.0902, 0.1333,  ..., 0.1725, 0.1922, 0.1843],\n",
              "           [0.0000, 0.0000, 0.0000,  ..., 0.0000, 0.0000, 0.0000]],\n",
              " \n",
              "          [[0.4314, 0.4353, 0.4157,  ..., 0.2314, 0.1412, 0.0784],\n",
              "           [0.5176, 0.5255, 0.5333,  ..., 0.2314, 0.1961, 0.1176],\n",
              "           [0.5137, 0.4549, 0.4745,  ..., 0.1608, 0.1843, 0.1373],\n",
              "           ...,\n",
              "           [0.1882, 0.1216, 0.1412,  ..., 0.1059, 0.1176, 0.1176],\n",
              "           [0.1176, 0.0667, 0.0980,  ..., 0.1294, 0.1412, 0.1333],\n",
              "           [0.0000, 0.0000, 0.0000,  ..., 0.0000, 0.0000, 0.0000]]]]),\n",
              " tensor([55,  2, 27, 43, 72, 62, 43, 14, 95, 85, 59, 12, 10, 51, 38, 59, 72, 34,\n",
              "         22, 93, 85, 70, 24, 35,  9, 44, 95, 32, 92, 59, 52,  1, 99, 19, 48, 38,\n",
              "         88, 82, 75, 12, 19, 55,  2, 16, 23,  6, 95, 53, 21,  1, 50, 75, 73,  6,\n",
              "          3, 64, 94, 21, 18, 91, 39,  7, 43, 44,  8, 31, 31, 76, 55, 13, 28,  5,\n",
              "         85, 69, 48, 75, 42, 93, 46, 53, 15, 41, 87, 40,  9, 87, 47, 63,  8,  8,\n",
              "         73, 52, 93, 55, 39, 43, 75, 63, 88, 35, 27, 14, 92, 20,  7, 14, 32, 72,\n",
              "         88,  3, 48, 59, 41, 19, 16, 61, 82,  7, 20, 86, 75, 41, 80,  4, 82, 35,\n",
              "         99, 62]))"
            ]
          },
          "metadata": {},
          "execution_count": 9
        }
      ]
    },
    {
      "cell_type": "code",
      "source": [
        "torch.manual_seed(10)"
      ],
      "metadata": {
        "colab": {
          "base_uri": "https://localhost:8080/"
        },
        "id": "U6dBcOn3JG8C",
        "outputId": "139ed553-4791-44c5-f90f-878ba555fbc4"
      },
      "execution_count": 10,
      "outputs": [
        {
          "output_type": "execute_result",
          "data": {
            "text/plain": [
              "<torch._C.Generator at 0x7f76d643c710>"
            ]
          },
          "metadata": {},
          "execution_count": 10
        }
      ]
    },
    {
      "cell_type": "code",
      "source": [
        "class Net(nn.Module):\n",
        "\n",
        "    def __init__(self):\n",
        "        super(Net, self).__init__()\n",
        "        self.dp_three = nn.Dropout(0.2)\n",
        "        self.dp_four = nn.Dropout(0.2)\n",
        "        \n",
        "        self.bn_one = torch.nn.BatchNorm2d(3) \n",
        "        self.conv_one = torch.nn.Conv2d(3, 60, 3)\n",
        "        self.bn_two = torch.nn.BatchNorm2d(60) \n",
        "        self.conv_two = torch.nn.Conv2d(60, 120, 3)\n",
        "        self.bn_three = torch.nn.BatchNorm2d(120)\n",
        "        self.conv_three = torch.nn.Conv2d(120, 240, 3)\n",
        "        self.bn_four = torch.nn.BatchNorm2d(240)\n",
        "        self.fc1 = torch.nn.Linear(960, 400)\n",
        "        self.out = torch.nn.Linear(400, 100)\n",
        "        \n",
        "        \n",
        "    def forward(self, x):\n",
        "        x = self.bn_one(x)\n",
        "        x = self.conv_one(x)\n",
        "        x = F.relu(x)\n",
        "        x = F.max_pool2d(x, 2)\n",
        "        \n",
        "        x = self.bn_two(x)\n",
        "        x = self.conv_two(x)\n",
        "        x = F.relu(x)\n",
        "        x = F.max_pool2d(x, 2)\n",
        "        \n",
        "        x = self.bn_three(x)\n",
        "        x = self.conv_three(x)\n",
        "        x = F.leaky_relu(x, 0.1)\n",
        "        x = F.max_pool2d(x, 2)\n",
        "        \n",
        "        x = self.bn_four(x)\n",
        "        x = x.view(x.size(0), -1)\n",
        "        x = self.dp_three(x)\n",
        "        x = self.fc1(x)\n",
        "        x = F.relu(x)\n",
        "        x = self.dp_four(x)\n",
        "        return self.out(x)"
      ],
      "metadata": {
        "id": "E36d_l2RJNiZ"
      },
      "execution_count": 11,
      "outputs": []
    },
    {
      "cell_type": "code",
      "source": [
        "net = Net().to(device)\n"
      ],
      "metadata": {
        "id": "_oud3aO-JReO"
      },
      "execution_count": 12,
      "outputs": []
    },
    {
      "cell_type": "code",
      "source": [
        "optimizer = torch.optim.Adam(net.parameters(), lr=0.001)\n",
        "criterion = nn.CrossEntropyLoss()"
      ],
      "metadata": {
        "id": "j31BnN-UJWOf"
      },
      "execution_count": 13,
      "outputs": []
    },
    {
      "cell_type": "code",
      "source": [
        "num_epochs = 10\n",
        "train_eval_model(net, num_epochs, train_loader, valid_loader)"
      ],
      "metadata": {
        "colab": {
          "base_uri": "https://localhost:8080/"
        },
        "id": "rw1QIEwIJare",
        "outputId": "9a9e4f16-ecef-48d7-dd0b-9d50833601e9"
      },
      "execution_count": 14,
      "outputs": [
        {
          "output_type": "stream",
          "name": "stdout",
          "text": [
            "Epoch [1/10]. Step [1/372]. Loss: 0.036. Acc: 0.016. Test acc: 0.007\n",
            "Epoch [1/10]. Step [301/372]. Loss: 0.032. Acc: 0.068. Test acc: 0.119\n",
            "Epoch [2/10]. Step [1/372]. Loss: 0.072. Acc: 0.070. Test acc: 0.081\n",
            "Epoch [2/10]. Step [301/372]. Loss: 0.028. Acc: 0.146. Test acc: 0.175\n",
            "Epoch [3/10]. Step [1/372]. Loss: 0.046. Acc: 0.172. Test acc: 0.105\n",
            "Epoch [3/10]. Step [301/372]. Loss: 0.026. Acc: 0.193. Test acc: 0.200\n",
            "Epoch [4/10]. Step [1/372]. Loss: 0.043. Acc: 0.195. Test acc: 0.203\n",
            "Epoch [4/10]. Step [301/372]. Loss: 0.025. Acc: 0.232. Test acc: 0.225\n",
            "Epoch [5/10]. Step [1/372]. Loss: 0.042. Acc: 0.195. Test acc: 0.226\n",
            "Epoch [5/10]. Step [301/372]. Loss: 0.024. Acc: 0.258. Test acc: 0.209\n",
            "Epoch [6/10]. Step [1/372]. Loss: 0.039. Acc: 0.148. Test acc: 0.269\n",
            "Epoch [6/10]. Step [301/372]. Loss: 0.023. Acc: 0.280. Test acc: 0.239\n",
            "Epoch [7/10]. Step [1/372]. Loss: 0.039. Acc: 0.141. Test acc: 0.266\n",
            "Epoch [7/10]. Step [301/372]. Loss: 0.022. Acc: 0.300. Test acc: 0.253\n",
            "Epoch [8/10]. Step [1/372]. Loss: 0.034. Acc: 0.258. Test acc: 0.280\n",
            "Epoch [8/10]. Step [301/372]. Loss: 0.021. Acc: 0.317. Test acc: 0.262\n",
            "Epoch [9/10]. Step [1/372]. Loss: 0.030. Acc: 0.242. Test acc: 0.283\n",
            "Epoch [9/10]. Step [301/372]. Loss: 0.021. Acc: 0.330. Test acc: 0.262\n",
            "Epoch [10/10]. Step [1/372]. Loss: 0.033. Acc: 0.234. Test acc: 0.291\n",
            "Epoch [10/10]. Step [301/372]. Loss: 0.020. Acc: 0.339. Test acc: 0.294\n",
            "Training is finished!\n"
          ]
        }
      ]
    },
    {
      "cell_type": "markdown",
      "source": [
        "Качество модели низкое"
      ],
      "metadata": {
        "id": "JNyWHJhhLsIS"
      }
    },
    {
      "cell_type": "code",
      "source": [
        ""
      ],
      "metadata": {
        "id": "_yR9_5yNJebu"
      },
      "execution_count": 14,
      "outputs": []
    },
    {
      "cell_type": "markdown",
      "source": [
        "###2 Обучите CNN на CIFAR-100 через дообучение ImageNet Resnet-50.\n",
        "\n"
      ],
      "metadata": {
        "id": "nZ3XyX11Jva-"
      }
    },
    {
      "cell_type": "code",
      "source": [
        "resnet50 = models.resnet50(pretrained=True)\n",
        "print(resnet50)"
      ],
      "metadata": {
        "colab": {
          "base_uri": "https://localhost:8080/",
          "height": 1000,
          "referenced_widgets": [
            "ee1e3750ea0140ca988711268d976751",
            "aa57bca6e6294d358265ad7a48171050",
            "e90e6f8fa743422795d849195e1548dd",
            "a63e76ec8ad04f25a954b5e85900180c",
            "6697988acf12494a8b07c22616fb1777",
            "5cac2bb8c32e46278b6f7c4a37567d5c",
            "8e28678ff55a48e792b3885409428d38",
            "8af9ee7ad7b646cf9326e79f7cbe5f0c",
            "00fcc83dad574f68b965ec4004d1ea64",
            "83b8acb275684c9b97bec26f42a8634a",
            "c63180b952154c0baaea364e9bb3e553"
          ]
        },
        "id": "TiNHDSnvJ0W5",
        "outputId": "d947e4fa-4233-4124-846f-b4b853aa6f17"
      },
      "execution_count": 15,
      "outputs": [
        {
          "output_type": "stream",
          "name": "stderr",
          "text": [
            "Downloading: \"https://download.pytorch.org/models/resnet50-0676ba61.pth\" to /root/.cache/torch/hub/checkpoints/resnet50-0676ba61.pth\n"
          ]
        },
        {
          "output_type": "display_data",
          "data": {
            "text/plain": [
              "  0%|          | 0.00/97.8M [00:00<?, ?B/s]"
            ],
            "application/vnd.jupyter.widget-view+json": {
              "version_major": 2,
              "version_minor": 0,
              "model_id": "ee1e3750ea0140ca988711268d976751"
            }
          },
          "metadata": {}
        },
        {
          "output_type": "stream",
          "name": "stdout",
          "text": [
            "ResNet(\n",
            "  (conv1): Conv2d(3, 64, kernel_size=(7, 7), stride=(2, 2), padding=(3, 3), bias=False)\n",
            "  (bn1): BatchNorm2d(64, eps=1e-05, momentum=0.1, affine=True, track_running_stats=True)\n",
            "  (relu): ReLU(inplace=True)\n",
            "  (maxpool): MaxPool2d(kernel_size=3, stride=2, padding=1, dilation=1, ceil_mode=False)\n",
            "  (layer1): Sequential(\n",
            "    (0): Bottleneck(\n",
            "      (conv1): Conv2d(64, 64, kernel_size=(1, 1), stride=(1, 1), bias=False)\n",
            "      (bn1): BatchNorm2d(64, eps=1e-05, momentum=0.1, affine=True, track_running_stats=True)\n",
            "      (conv2): Conv2d(64, 64, kernel_size=(3, 3), stride=(1, 1), padding=(1, 1), bias=False)\n",
            "      (bn2): BatchNorm2d(64, eps=1e-05, momentum=0.1, affine=True, track_running_stats=True)\n",
            "      (conv3): Conv2d(64, 256, kernel_size=(1, 1), stride=(1, 1), bias=False)\n",
            "      (bn3): BatchNorm2d(256, eps=1e-05, momentum=0.1, affine=True, track_running_stats=True)\n",
            "      (relu): ReLU(inplace=True)\n",
            "      (downsample): Sequential(\n",
            "        (0): Conv2d(64, 256, kernel_size=(1, 1), stride=(1, 1), bias=False)\n",
            "        (1): BatchNorm2d(256, eps=1e-05, momentum=0.1, affine=True, track_running_stats=True)\n",
            "      )\n",
            "    )\n",
            "    (1): Bottleneck(\n",
            "      (conv1): Conv2d(256, 64, kernel_size=(1, 1), stride=(1, 1), bias=False)\n",
            "      (bn1): BatchNorm2d(64, eps=1e-05, momentum=0.1, affine=True, track_running_stats=True)\n",
            "      (conv2): Conv2d(64, 64, kernel_size=(3, 3), stride=(1, 1), padding=(1, 1), bias=False)\n",
            "      (bn2): BatchNorm2d(64, eps=1e-05, momentum=0.1, affine=True, track_running_stats=True)\n",
            "      (conv3): Conv2d(64, 256, kernel_size=(1, 1), stride=(1, 1), bias=False)\n",
            "      (bn3): BatchNorm2d(256, eps=1e-05, momentum=0.1, affine=True, track_running_stats=True)\n",
            "      (relu): ReLU(inplace=True)\n",
            "    )\n",
            "    (2): Bottleneck(\n",
            "      (conv1): Conv2d(256, 64, kernel_size=(1, 1), stride=(1, 1), bias=False)\n",
            "      (bn1): BatchNorm2d(64, eps=1e-05, momentum=0.1, affine=True, track_running_stats=True)\n",
            "      (conv2): Conv2d(64, 64, kernel_size=(3, 3), stride=(1, 1), padding=(1, 1), bias=False)\n",
            "      (bn2): BatchNorm2d(64, eps=1e-05, momentum=0.1, affine=True, track_running_stats=True)\n",
            "      (conv3): Conv2d(64, 256, kernel_size=(1, 1), stride=(1, 1), bias=False)\n",
            "      (bn3): BatchNorm2d(256, eps=1e-05, momentum=0.1, affine=True, track_running_stats=True)\n",
            "      (relu): ReLU(inplace=True)\n",
            "    )\n",
            "  )\n",
            "  (layer2): Sequential(\n",
            "    (0): Bottleneck(\n",
            "      (conv1): Conv2d(256, 128, kernel_size=(1, 1), stride=(1, 1), bias=False)\n",
            "      (bn1): BatchNorm2d(128, eps=1e-05, momentum=0.1, affine=True, track_running_stats=True)\n",
            "      (conv2): Conv2d(128, 128, kernel_size=(3, 3), stride=(2, 2), padding=(1, 1), bias=False)\n",
            "      (bn2): BatchNorm2d(128, eps=1e-05, momentum=0.1, affine=True, track_running_stats=True)\n",
            "      (conv3): Conv2d(128, 512, kernel_size=(1, 1), stride=(1, 1), bias=False)\n",
            "      (bn3): BatchNorm2d(512, eps=1e-05, momentum=0.1, affine=True, track_running_stats=True)\n",
            "      (relu): ReLU(inplace=True)\n",
            "      (downsample): Sequential(\n",
            "        (0): Conv2d(256, 512, kernel_size=(1, 1), stride=(2, 2), bias=False)\n",
            "        (1): BatchNorm2d(512, eps=1e-05, momentum=0.1, affine=True, track_running_stats=True)\n",
            "      )\n",
            "    )\n",
            "    (1): Bottleneck(\n",
            "      (conv1): Conv2d(512, 128, kernel_size=(1, 1), stride=(1, 1), bias=False)\n",
            "      (bn1): BatchNorm2d(128, eps=1e-05, momentum=0.1, affine=True, track_running_stats=True)\n",
            "      (conv2): Conv2d(128, 128, kernel_size=(3, 3), stride=(1, 1), padding=(1, 1), bias=False)\n",
            "      (bn2): BatchNorm2d(128, eps=1e-05, momentum=0.1, affine=True, track_running_stats=True)\n",
            "      (conv3): Conv2d(128, 512, kernel_size=(1, 1), stride=(1, 1), bias=False)\n",
            "      (bn3): BatchNorm2d(512, eps=1e-05, momentum=0.1, affine=True, track_running_stats=True)\n",
            "      (relu): ReLU(inplace=True)\n",
            "    )\n",
            "    (2): Bottleneck(\n",
            "      (conv1): Conv2d(512, 128, kernel_size=(1, 1), stride=(1, 1), bias=False)\n",
            "      (bn1): BatchNorm2d(128, eps=1e-05, momentum=0.1, affine=True, track_running_stats=True)\n",
            "      (conv2): Conv2d(128, 128, kernel_size=(3, 3), stride=(1, 1), padding=(1, 1), bias=False)\n",
            "      (bn2): BatchNorm2d(128, eps=1e-05, momentum=0.1, affine=True, track_running_stats=True)\n",
            "      (conv3): Conv2d(128, 512, kernel_size=(1, 1), stride=(1, 1), bias=False)\n",
            "      (bn3): BatchNorm2d(512, eps=1e-05, momentum=0.1, affine=True, track_running_stats=True)\n",
            "      (relu): ReLU(inplace=True)\n",
            "    )\n",
            "    (3): Bottleneck(\n",
            "      (conv1): Conv2d(512, 128, kernel_size=(1, 1), stride=(1, 1), bias=False)\n",
            "      (bn1): BatchNorm2d(128, eps=1e-05, momentum=0.1, affine=True, track_running_stats=True)\n",
            "      (conv2): Conv2d(128, 128, kernel_size=(3, 3), stride=(1, 1), padding=(1, 1), bias=False)\n",
            "      (bn2): BatchNorm2d(128, eps=1e-05, momentum=0.1, affine=True, track_running_stats=True)\n",
            "      (conv3): Conv2d(128, 512, kernel_size=(1, 1), stride=(1, 1), bias=False)\n",
            "      (bn3): BatchNorm2d(512, eps=1e-05, momentum=0.1, affine=True, track_running_stats=True)\n",
            "      (relu): ReLU(inplace=True)\n",
            "    )\n",
            "  )\n",
            "  (layer3): Sequential(\n",
            "    (0): Bottleneck(\n",
            "      (conv1): Conv2d(512, 256, kernel_size=(1, 1), stride=(1, 1), bias=False)\n",
            "      (bn1): BatchNorm2d(256, eps=1e-05, momentum=0.1, affine=True, track_running_stats=True)\n",
            "      (conv2): Conv2d(256, 256, kernel_size=(3, 3), stride=(2, 2), padding=(1, 1), bias=False)\n",
            "      (bn2): BatchNorm2d(256, eps=1e-05, momentum=0.1, affine=True, track_running_stats=True)\n",
            "      (conv3): Conv2d(256, 1024, kernel_size=(1, 1), stride=(1, 1), bias=False)\n",
            "      (bn3): BatchNorm2d(1024, eps=1e-05, momentum=0.1, affine=True, track_running_stats=True)\n",
            "      (relu): ReLU(inplace=True)\n",
            "      (downsample): Sequential(\n",
            "        (0): Conv2d(512, 1024, kernel_size=(1, 1), stride=(2, 2), bias=False)\n",
            "        (1): BatchNorm2d(1024, eps=1e-05, momentum=0.1, affine=True, track_running_stats=True)\n",
            "      )\n",
            "    )\n",
            "    (1): Bottleneck(\n",
            "      (conv1): Conv2d(1024, 256, kernel_size=(1, 1), stride=(1, 1), bias=False)\n",
            "      (bn1): BatchNorm2d(256, eps=1e-05, momentum=0.1, affine=True, track_running_stats=True)\n",
            "      (conv2): Conv2d(256, 256, kernel_size=(3, 3), stride=(1, 1), padding=(1, 1), bias=False)\n",
            "      (bn2): BatchNorm2d(256, eps=1e-05, momentum=0.1, affine=True, track_running_stats=True)\n",
            "      (conv3): Conv2d(256, 1024, kernel_size=(1, 1), stride=(1, 1), bias=False)\n",
            "      (bn3): BatchNorm2d(1024, eps=1e-05, momentum=0.1, affine=True, track_running_stats=True)\n",
            "      (relu): ReLU(inplace=True)\n",
            "    )\n",
            "    (2): Bottleneck(\n",
            "      (conv1): Conv2d(1024, 256, kernel_size=(1, 1), stride=(1, 1), bias=False)\n",
            "      (bn1): BatchNorm2d(256, eps=1e-05, momentum=0.1, affine=True, track_running_stats=True)\n",
            "      (conv2): Conv2d(256, 256, kernel_size=(3, 3), stride=(1, 1), padding=(1, 1), bias=False)\n",
            "      (bn2): BatchNorm2d(256, eps=1e-05, momentum=0.1, affine=True, track_running_stats=True)\n",
            "      (conv3): Conv2d(256, 1024, kernel_size=(1, 1), stride=(1, 1), bias=False)\n",
            "      (bn3): BatchNorm2d(1024, eps=1e-05, momentum=0.1, affine=True, track_running_stats=True)\n",
            "      (relu): ReLU(inplace=True)\n",
            "    )\n",
            "    (3): Bottleneck(\n",
            "      (conv1): Conv2d(1024, 256, kernel_size=(1, 1), stride=(1, 1), bias=False)\n",
            "      (bn1): BatchNorm2d(256, eps=1e-05, momentum=0.1, affine=True, track_running_stats=True)\n",
            "      (conv2): Conv2d(256, 256, kernel_size=(3, 3), stride=(1, 1), padding=(1, 1), bias=False)\n",
            "      (bn2): BatchNorm2d(256, eps=1e-05, momentum=0.1, affine=True, track_running_stats=True)\n",
            "      (conv3): Conv2d(256, 1024, kernel_size=(1, 1), stride=(1, 1), bias=False)\n",
            "      (bn3): BatchNorm2d(1024, eps=1e-05, momentum=0.1, affine=True, track_running_stats=True)\n",
            "      (relu): ReLU(inplace=True)\n",
            "    )\n",
            "    (4): Bottleneck(\n",
            "      (conv1): Conv2d(1024, 256, kernel_size=(1, 1), stride=(1, 1), bias=False)\n",
            "      (bn1): BatchNorm2d(256, eps=1e-05, momentum=0.1, affine=True, track_running_stats=True)\n",
            "      (conv2): Conv2d(256, 256, kernel_size=(3, 3), stride=(1, 1), padding=(1, 1), bias=False)\n",
            "      (bn2): BatchNorm2d(256, eps=1e-05, momentum=0.1, affine=True, track_running_stats=True)\n",
            "      (conv3): Conv2d(256, 1024, kernel_size=(1, 1), stride=(1, 1), bias=False)\n",
            "      (bn3): BatchNorm2d(1024, eps=1e-05, momentum=0.1, affine=True, track_running_stats=True)\n",
            "      (relu): ReLU(inplace=True)\n",
            "    )\n",
            "    (5): Bottleneck(\n",
            "      (conv1): Conv2d(1024, 256, kernel_size=(1, 1), stride=(1, 1), bias=False)\n",
            "      (bn1): BatchNorm2d(256, eps=1e-05, momentum=0.1, affine=True, track_running_stats=True)\n",
            "      (conv2): Conv2d(256, 256, kernel_size=(3, 3), stride=(1, 1), padding=(1, 1), bias=False)\n",
            "      (bn2): BatchNorm2d(256, eps=1e-05, momentum=0.1, affine=True, track_running_stats=True)\n",
            "      (conv3): Conv2d(256, 1024, kernel_size=(1, 1), stride=(1, 1), bias=False)\n",
            "      (bn3): BatchNorm2d(1024, eps=1e-05, momentum=0.1, affine=True, track_running_stats=True)\n",
            "      (relu): ReLU(inplace=True)\n",
            "    )\n",
            "  )\n",
            "  (layer4): Sequential(\n",
            "    (0): Bottleneck(\n",
            "      (conv1): Conv2d(1024, 512, kernel_size=(1, 1), stride=(1, 1), bias=False)\n",
            "      (bn1): BatchNorm2d(512, eps=1e-05, momentum=0.1, affine=True, track_running_stats=True)\n",
            "      (conv2): Conv2d(512, 512, kernel_size=(3, 3), stride=(2, 2), padding=(1, 1), bias=False)\n",
            "      (bn2): BatchNorm2d(512, eps=1e-05, momentum=0.1, affine=True, track_running_stats=True)\n",
            "      (conv3): Conv2d(512, 2048, kernel_size=(1, 1), stride=(1, 1), bias=False)\n",
            "      (bn3): BatchNorm2d(2048, eps=1e-05, momentum=0.1, affine=True, track_running_stats=True)\n",
            "      (relu): ReLU(inplace=True)\n",
            "      (downsample): Sequential(\n",
            "        (0): Conv2d(1024, 2048, kernel_size=(1, 1), stride=(2, 2), bias=False)\n",
            "        (1): BatchNorm2d(2048, eps=1e-05, momentum=0.1, affine=True, track_running_stats=True)\n",
            "      )\n",
            "    )\n",
            "    (1): Bottleneck(\n",
            "      (conv1): Conv2d(2048, 512, kernel_size=(1, 1), stride=(1, 1), bias=False)\n",
            "      (bn1): BatchNorm2d(512, eps=1e-05, momentum=0.1, affine=True, track_running_stats=True)\n",
            "      (conv2): Conv2d(512, 512, kernel_size=(3, 3), stride=(1, 1), padding=(1, 1), bias=False)\n",
            "      (bn2): BatchNorm2d(512, eps=1e-05, momentum=0.1, affine=True, track_running_stats=True)\n",
            "      (conv3): Conv2d(512, 2048, kernel_size=(1, 1), stride=(1, 1), bias=False)\n",
            "      (bn3): BatchNorm2d(2048, eps=1e-05, momentum=0.1, affine=True, track_running_stats=True)\n",
            "      (relu): ReLU(inplace=True)\n",
            "    )\n",
            "    (2): Bottleneck(\n",
            "      (conv1): Conv2d(2048, 512, kernel_size=(1, 1), stride=(1, 1), bias=False)\n",
            "      (bn1): BatchNorm2d(512, eps=1e-05, momentum=0.1, affine=True, track_running_stats=True)\n",
            "      (conv2): Conv2d(512, 512, kernel_size=(3, 3), stride=(1, 1), padding=(1, 1), bias=False)\n",
            "      (bn2): BatchNorm2d(512, eps=1e-05, momentum=0.1, affine=True, track_running_stats=True)\n",
            "      (conv3): Conv2d(512, 2048, kernel_size=(1, 1), stride=(1, 1), bias=False)\n",
            "      (bn3): BatchNorm2d(2048, eps=1e-05, momentum=0.1, affine=True, track_running_stats=True)\n",
            "      (relu): ReLU(inplace=True)\n",
            "    )\n",
            "  )\n",
            "  (avgpool): AdaptiveAvgPool2d(output_size=(1, 1))\n",
            "  (fc): Linear(in_features=2048, out_features=1000, bias=True)\n",
            ")\n"
          ]
        }
      ]
    },
    {
      "cell_type": "code",
      "source": [
        "for param in resnet50.parameters():\n",
        "    print(param.requires_grad, end = ', ')"
      ],
      "metadata": {
        "colab": {
          "base_uri": "https://localhost:8080/"
        },
        "id": "yNAjXLvvJ5S4",
        "outputId": "c062b2ac-2e4c-485f-ac0c-34fc05294d62"
      },
      "execution_count": 16,
      "outputs": [
        {
          "output_type": "stream",
          "name": "stdout",
          "text": [
            "True, True, True, True, True, True, True, True, True, True, True, True, True, True, True, True, True, True, True, True, True, True, True, True, True, True, True, True, True, True, True, True, True, True, True, True, True, True, True, True, True, True, True, True, True, True, True, True, True, True, True, True, True, True, True, True, True, True, True, True, True, True, True, True, True, True, True, True, True, True, True, True, True, True, True, True, True, True, True, True, True, True, True, True, True, True, True, True, True, True, True, True, True, True, True, True, True, True, True, True, True, True, True, True, True, True, True, True, True, True, True, True, True, True, True, True, True, True, True, True, True, True, True, True, True, True, True, True, True, True, True, True, True, True, True, True, True, True, True, True, True, True, True, True, True, True, True, True, True, True, True, True, True, True, True, True, True, True, True, True, True, "
          ]
        }
      ]
    },
    {
      "cell_type": "code",
      "source": [
        "def set_parameter_requires_grad(model, feature_extracting):\n",
        "    if feature_extracting:\n",
        "        for param in model.parameters():\n",
        "            param.requires_grad = False"
      ],
      "metadata": {
        "id": "B19g0T6YJ96f"
      },
      "execution_count": 17,
      "outputs": []
    },
    {
      "cell_type": "code",
      "source": [
        "# замораживаем все слои предобученной модели\n",
        "set_parameter_requires_grad(resnet50, True)\n",
        "\n",
        "# теперь все веса модели не обучаемы\n",
        "for param in resnet50.parameters():\n",
        "    print(param.requires_grad, end=', ')"
      ],
      "metadata": {
        "colab": {
          "base_uri": "https://localhost:8080/"
        },
        "id": "ttkmCPx9KDIm",
        "outputId": "669e0ade-8807-4f8f-801e-82b128199070"
      },
      "execution_count": 18,
      "outputs": [
        {
          "output_type": "stream",
          "name": "stdout",
          "text": [
            "False, False, False, False, False, False, False, False, False, False, False, False, False, False, False, False, False, False, False, False, False, False, False, False, False, False, False, False, False, False, False, False, False, False, False, False, False, False, False, False, False, False, False, False, False, False, False, False, False, False, False, False, False, False, False, False, False, False, False, False, False, False, False, False, False, False, False, False, False, False, False, False, False, False, False, False, False, False, False, False, False, False, False, False, False, False, False, False, False, False, False, False, False, False, False, False, False, False, False, False, False, False, False, False, False, False, False, False, False, False, False, False, False, False, False, False, False, False, False, False, False, False, False, False, False, False, False, False, False, False, False, False, False, False, False, False, False, False, False, False, False, False, False, False, False, False, False, False, False, False, False, False, False, False, False, False, False, False, False, False, False, "
          ]
        }
      ]
    },
    {
      "cell_type": "code",
      "source": [
        "#переопределяем последний слой сети\n",
        "resnet50.fc = nn.Linear(2048, 100)\n",
        "\n",
        "# все веса модели, кроме последнего, не обучаемы\n",
        "for param in resnet50.parameters():\n",
        "    print(param.requires_grad, end=', ')"
      ],
      "metadata": {
        "colab": {
          "base_uri": "https://localhost:8080/"
        },
        "id": "L4Lkm3BWKJus",
        "outputId": "3afbe58c-1c12-4927-f8e5-be2d6ea8a3d2"
      },
      "execution_count": 19,
      "outputs": [
        {
          "output_type": "stream",
          "name": "stdout",
          "text": [
            "False, False, False, False, False, False, False, False, False, False, False, False, False, False, False, False, False, False, False, False, False, False, False, False, False, False, False, False, False, False, False, False, False, False, False, False, False, False, False, False, False, False, False, False, False, False, False, False, False, False, False, False, False, False, False, False, False, False, False, False, False, False, False, False, False, False, False, False, False, False, False, False, False, False, False, False, False, False, False, False, False, False, False, False, False, False, False, False, False, False, False, False, False, False, False, False, False, False, False, False, False, False, False, False, False, False, False, False, False, False, False, False, False, False, False, False, False, False, False, False, False, False, False, False, False, False, False, False, False, False, False, False, False, False, False, False, False, False, False, False, False, False, False, False, False, False, False, False, False, False, False, False, False, False, False, False, False, False, False, True, True, "
          ]
        }
      ]
    },
    {
      "cell_type": "code",
      "source": [
        "print(resnet50)"
      ],
      "metadata": {
        "colab": {
          "base_uri": "https://localhost:8080/"
        },
        "id": "ofcFuhoaKYFv",
        "outputId": "9dc0d883-c6e9-49a8-efdd-f841c5371ada"
      },
      "execution_count": 20,
      "outputs": [
        {
          "output_type": "stream",
          "name": "stdout",
          "text": [
            "ResNet(\n",
            "  (conv1): Conv2d(3, 64, kernel_size=(7, 7), stride=(2, 2), padding=(3, 3), bias=False)\n",
            "  (bn1): BatchNorm2d(64, eps=1e-05, momentum=0.1, affine=True, track_running_stats=True)\n",
            "  (relu): ReLU(inplace=True)\n",
            "  (maxpool): MaxPool2d(kernel_size=3, stride=2, padding=1, dilation=1, ceil_mode=False)\n",
            "  (layer1): Sequential(\n",
            "    (0): Bottleneck(\n",
            "      (conv1): Conv2d(64, 64, kernel_size=(1, 1), stride=(1, 1), bias=False)\n",
            "      (bn1): BatchNorm2d(64, eps=1e-05, momentum=0.1, affine=True, track_running_stats=True)\n",
            "      (conv2): Conv2d(64, 64, kernel_size=(3, 3), stride=(1, 1), padding=(1, 1), bias=False)\n",
            "      (bn2): BatchNorm2d(64, eps=1e-05, momentum=0.1, affine=True, track_running_stats=True)\n",
            "      (conv3): Conv2d(64, 256, kernel_size=(1, 1), stride=(1, 1), bias=False)\n",
            "      (bn3): BatchNorm2d(256, eps=1e-05, momentum=0.1, affine=True, track_running_stats=True)\n",
            "      (relu): ReLU(inplace=True)\n",
            "      (downsample): Sequential(\n",
            "        (0): Conv2d(64, 256, kernel_size=(1, 1), stride=(1, 1), bias=False)\n",
            "        (1): BatchNorm2d(256, eps=1e-05, momentum=0.1, affine=True, track_running_stats=True)\n",
            "      )\n",
            "    )\n",
            "    (1): Bottleneck(\n",
            "      (conv1): Conv2d(256, 64, kernel_size=(1, 1), stride=(1, 1), bias=False)\n",
            "      (bn1): BatchNorm2d(64, eps=1e-05, momentum=0.1, affine=True, track_running_stats=True)\n",
            "      (conv2): Conv2d(64, 64, kernel_size=(3, 3), stride=(1, 1), padding=(1, 1), bias=False)\n",
            "      (bn2): BatchNorm2d(64, eps=1e-05, momentum=0.1, affine=True, track_running_stats=True)\n",
            "      (conv3): Conv2d(64, 256, kernel_size=(1, 1), stride=(1, 1), bias=False)\n",
            "      (bn3): BatchNorm2d(256, eps=1e-05, momentum=0.1, affine=True, track_running_stats=True)\n",
            "      (relu): ReLU(inplace=True)\n",
            "    )\n",
            "    (2): Bottleneck(\n",
            "      (conv1): Conv2d(256, 64, kernel_size=(1, 1), stride=(1, 1), bias=False)\n",
            "      (bn1): BatchNorm2d(64, eps=1e-05, momentum=0.1, affine=True, track_running_stats=True)\n",
            "      (conv2): Conv2d(64, 64, kernel_size=(3, 3), stride=(1, 1), padding=(1, 1), bias=False)\n",
            "      (bn2): BatchNorm2d(64, eps=1e-05, momentum=0.1, affine=True, track_running_stats=True)\n",
            "      (conv3): Conv2d(64, 256, kernel_size=(1, 1), stride=(1, 1), bias=False)\n",
            "      (bn3): BatchNorm2d(256, eps=1e-05, momentum=0.1, affine=True, track_running_stats=True)\n",
            "      (relu): ReLU(inplace=True)\n",
            "    )\n",
            "  )\n",
            "  (layer2): Sequential(\n",
            "    (0): Bottleneck(\n",
            "      (conv1): Conv2d(256, 128, kernel_size=(1, 1), stride=(1, 1), bias=False)\n",
            "      (bn1): BatchNorm2d(128, eps=1e-05, momentum=0.1, affine=True, track_running_stats=True)\n",
            "      (conv2): Conv2d(128, 128, kernel_size=(3, 3), stride=(2, 2), padding=(1, 1), bias=False)\n",
            "      (bn2): BatchNorm2d(128, eps=1e-05, momentum=0.1, affine=True, track_running_stats=True)\n",
            "      (conv3): Conv2d(128, 512, kernel_size=(1, 1), stride=(1, 1), bias=False)\n",
            "      (bn3): BatchNorm2d(512, eps=1e-05, momentum=0.1, affine=True, track_running_stats=True)\n",
            "      (relu): ReLU(inplace=True)\n",
            "      (downsample): Sequential(\n",
            "        (0): Conv2d(256, 512, kernel_size=(1, 1), stride=(2, 2), bias=False)\n",
            "        (1): BatchNorm2d(512, eps=1e-05, momentum=0.1, affine=True, track_running_stats=True)\n",
            "      )\n",
            "    )\n",
            "    (1): Bottleneck(\n",
            "      (conv1): Conv2d(512, 128, kernel_size=(1, 1), stride=(1, 1), bias=False)\n",
            "      (bn1): BatchNorm2d(128, eps=1e-05, momentum=0.1, affine=True, track_running_stats=True)\n",
            "      (conv2): Conv2d(128, 128, kernel_size=(3, 3), stride=(1, 1), padding=(1, 1), bias=False)\n",
            "      (bn2): BatchNorm2d(128, eps=1e-05, momentum=0.1, affine=True, track_running_stats=True)\n",
            "      (conv3): Conv2d(128, 512, kernel_size=(1, 1), stride=(1, 1), bias=False)\n",
            "      (bn3): BatchNorm2d(512, eps=1e-05, momentum=0.1, affine=True, track_running_stats=True)\n",
            "      (relu): ReLU(inplace=True)\n",
            "    )\n",
            "    (2): Bottleneck(\n",
            "      (conv1): Conv2d(512, 128, kernel_size=(1, 1), stride=(1, 1), bias=False)\n",
            "      (bn1): BatchNorm2d(128, eps=1e-05, momentum=0.1, affine=True, track_running_stats=True)\n",
            "      (conv2): Conv2d(128, 128, kernel_size=(3, 3), stride=(1, 1), padding=(1, 1), bias=False)\n",
            "      (bn2): BatchNorm2d(128, eps=1e-05, momentum=0.1, affine=True, track_running_stats=True)\n",
            "      (conv3): Conv2d(128, 512, kernel_size=(1, 1), stride=(1, 1), bias=False)\n",
            "      (bn3): BatchNorm2d(512, eps=1e-05, momentum=0.1, affine=True, track_running_stats=True)\n",
            "      (relu): ReLU(inplace=True)\n",
            "    )\n",
            "    (3): Bottleneck(\n",
            "      (conv1): Conv2d(512, 128, kernel_size=(1, 1), stride=(1, 1), bias=False)\n",
            "      (bn1): BatchNorm2d(128, eps=1e-05, momentum=0.1, affine=True, track_running_stats=True)\n",
            "      (conv2): Conv2d(128, 128, kernel_size=(3, 3), stride=(1, 1), padding=(1, 1), bias=False)\n",
            "      (bn2): BatchNorm2d(128, eps=1e-05, momentum=0.1, affine=True, track_running_stats=True)\n",
            "      (conv3): Conv2d(128, 512, kernel_size=(1, 1), stride=(1, 1), bias=False)\n",
            "      (bn3): BatchNorm2d(512, eps=1e-05, momentum=0.1, affine=True, track_running_stats=True)\n",
            "      (relu): ReLU(inplace=True)\n",
            "    )\n",
            "  )\n",
            "  (layer3): Sequential(\n",
            "    (0): Bottleneck(\n",
            "      (conv1): Conv2d(512, 256, kernel_size=(1, 1), stride=(1, 1), bias=False)\n",
            "      (bn1): BatchNorm2d(256, eps=1e-05, momentum=0.1, affine=True, track_running_stats=True)\n",
            "      (conv2): Conv2d(256, 256, kernel_size=(3, 3), stride=(2, 2), padding=(1, 1), bias=False)\n",
            "      (bn2): BatchNorm2d(256, eps=1e-05, momentum=0.1, affine=True, track_running_stats=True)\n",
            "      (conv3): Conv2d(256, 1024, kernel_size=(1, 1), stride=(1, 1), bias=False)\n",
            "      (bn3): BatchNorm2d(1024, eps=1e-05, momentum=0.1, affine=True, track_running_stats=True)\n",
            "      (relu): ReLU(inplace=True)\n",
            "      (downsample): Sequential(\n",
            "        (0): Conv2d(512, 1024, kernel_size=(1, 1), stride=(2, 2), bias=False)\n",
            "        (1): BatchNorm2d(1024, eps=1e-05, momentum=0.1, affine=True, track_running_stats=True)\n",
            "      )\n",
            "    )\n",
            "    (1): Bottleneck(\n",
            "      (conv1): Conv2d(1024, 256, kernel_size=(1, 1), stride=(1, 1), bias=False)\n",
            "      (bn1): BatchNorm2d(256, eps=1e-05, momentum=0.1, affine=True, track_running_stats=True)\n",
            "      (conv2): Conv2d(256, 256, kernel_size=(3, 3), stride=(1, 1), padding=(1, 1), bias=False)\n",
            "      (bn2): BatchNorm2d(256, eps=1e-05, momentum=0.1, affine=True, track_running_stats=True)\n",
            "      (conv3): Conv2d(256, 1024, kernel_size=(1, 1), stride=(1, 1), bias=False)\n",
            "      (bn3): BatchNorm2d(1024, eps=1e-05, momentum=0.1, affine=True, track_running_stats=True)\n",
            "      (relu): ReLU(inplace=True)\n",
            "    )\n",
            "    (2): Bottleneck(\n",
            "      (conv1): Conv2d(1024, 256, kernel_size=(1, 1), stride=(1, 1), bias=False)\n",
            "      (bn1): BatchNorm2d(256, eps=1e-05, momentum=0.1, affine=True, track_running_stats=True)\n",
            "      (conv2): Conv2d(256, 256, kernel_size=(3, 3), stride=(1, 1), padding=(1, 1), bias=False)\n",
            "      (bn2): BatchNorm2d(256, eps=1e-05, momentum=0.1, affine=True, track_running_stats=True)\n",
            "      (conv3): Conv2d(256, 1024, kernel_size=(1, 1), stride=(1, 1), bias=False)\n",
            "      (bn3): BatchNorm2d(1024, eps=1e-05, momentum=0.1, affine=True, track_running_stats=True)\n",
            "      (relu): ReLU(inplace=True)\n",
            "    )\n",
            "    (3): Bottleneck(\n",
            "      (conv1): Conv2d(1024, 256, kernel_size=(1, 1), stride=(1, 1), bias=False)\n",
            "      (bn1): BatchNorm2d(256, eps=1e-05, momentum=0.1, affine=True, track_running_stats=True)\n",
            "      (conv2): Conv2d(256, 256, kernel_size=(3, 3), stride=(1, 1), padding=(1, 1), bias=False)\n",
            "      (bn2): BatchNorm2d(256, eps=1e-05, momentum=0.1, affine=True, track_running_stats=True)\n",
            "      (conv3): Conv2d(256, 1024, kernel_size=(1, 1), stride=(1, 1), bias=False)\n",
            "      (bn3): BatchNorm2d(1024, eps=1e-05, momentum=0.1, affine=True, track_running_stats=True)\n",
            "      (relu): ReLU(inplace=True)\n",
            "    )\n",
            "    (4): Bottleneck(\n",
            "      (conv1): Conv2d(1024, 256, kernel_size=(1, 1), stride=(1, 1), bias=False)\n",
            "      (bn1): BatchNorm2d(256, eps=1e-05, momentum=0.1, affine=True, track_running_stats=True)\n",
            "      (conv2): Conv2d(256, 256, kernel_size=(3, 3), stride=(1, 1), padding=(1, 1), bias=False)\n",
            "      (bn2): BatchNorm2d(256, eps=1e-05, momentum=0.1, affine=True, track_running_stats=True)\n",
            "      (conv3): Conv2d(256, 1024, kernel_size=(1, 1), stride=(1, 1), bias=False)\n",
            "      (bn3): BatchNorm2d(1024, eps=1e-05, momentum=0.1, affine=True, track_running_stats=True)\n",
            "      (relu): ReLU(inplace=True)\n",
            "    )\n",
            "    (5): Bottleneck(\n",
            "      (conv1): Conv2d(1024, 256, kernel_size=(1, 1), stride=(1, 1), bias=False)\n",
            "      (bn1): BatchNorm2d(256, eps=1e-05, momentum=0.1, affine=True, track_running_stats=True)\n",
            "      (conv2): Conv2d(256, 256, kernel_size=(3, 3), stride=(1, 1), padding=(1, 1), bias=False)\n",
            "      (bn2): BatchNorm2d(256, eps=1e-05, momentum=0.1, affine=True, track_running_stats=True)\n",
            "      (conv3): Conv2d(256, 1024, kernel_size=(1, 1), stride=(1, 1), bias=False)\n",
            "      (bn3): BatchNorm2d(1024, eps=1e-05, momentum=0.1, affine=True, track_running_stats=True)\n",
            "      (relu): ReLU(inplace=True)\n",
            "    )\n",
            "  )\n",
            "  (layer4): Sequential(\n",
            "    (0): Bottleneck(\n",
            "      (conv1): Conv2d(1024, 512, kernel_size=(1, 1), stride=(1, 1), bias=False)\n",
            "      (bn1): BatchNorm2d(512, eps=1e-05, momentum=0.1, affine=True, track_running_stats=True)\n",
            "      (conv2): Conv2d(512, 512, kernel_size=(3, 3), stride=(2, 2), padding=(1, 1), bias=False)\n",
            "      (bn2): BatchNorm2d(512, eps=1e-05, momentum=0.1, affine=True, track_running_stats=True)\n",
            "      (conv3): Conv2d(512, 2048, kernel_size=(1, 1), stride=(1, 1), bias=False)\n",
            "      (bn3): BatchNorm2d(2048, eps=1e-05, momentum=0.1, affine=True, track_running_stats=True)\n",
            "      (relu): ReLU(inplace=True)\n",
            "      (downsample): Sequential(\n",
            "        (0): Conv2d(1024, 2048, kernel_size=(1, 1), stride=(2, 2), bias=False)\n",
            "        (1): BatchNorm2d(2048, eps=1e-05, momentum=0.1, affine=True, track_running_stats=True)\n",
            "      )\n",
            "    )\n",
            "    (1): Bottleneck(\n",
            "      (conv1): Conv2d(2048, 512, kernel_size=(1, 1), stride=(1, 1), bias=False)\n",
            "      (bn1): BatchNorm2d(512, eps=1e-05, momentum=0.1, affine=True, track_running_stats=True)\n",
            "      (conv2): Conv2d(512, 512, kernel_size=(3, 3), stride=(1, 1), padding=(1, 1), bias=False)\n",
            "      (bn2): BatchNorm2d(512, eps=1e-05, momentum=0.1, affine=True, track_running_stats=True)\n",
            "      (conv3): Conv2d(512, 2048, kernel_size=(1, 1), stride=(1, 1), bias=False)\n",
            "      (bn3): BatchNorm2d(2048, eps=1e-05, momentum=0.1, affine=True, track_running_stats=True)\n",
            "      (relu): ReLU(inplace=True)\n",
            "    )\n",
            "    (2): Bottleneck(\n",
            "      (conv1): Conv2d(2048, 512, kernel_size=(1, 1), stride=(1, 1), bias=False)\n",
            "      (bn1): BatchNorm2d(512, eps=1e-05, momentum=0.1, affine=True, track_running_stats=True)\n",
            "      (conv2): Conv2d(512, 512, kernel_size=(3, 3), stride=(1, 1), padding=(1, 1), bias=False)\n",
            "      (bn2): BatchNorm2d(512, eps=1e-05, momentum=0.1, affine=True, track_running_stats=True)\n",
            "      (conv3): Conv2d(512, 2048, kernel_size=(1, 1), stride=(1, 1), bias=False)\n",
            "      (bn3): BatchNorm2d(2048, eps=1e-05, momentum=0.1, affine=True, track_running_stats=True)\n",
            "      (relu): ReLU(inplace=True)\n",
            "    )\n",
            "  )\n",
            "  (avgpool): AdaptiveAvgPool2d(output_size=(1, 1))\n",
            "  (fc): Linear(in_features=2048, out_features=100, bias=True)\n",
            ")\n"
          ]
        }
      ]
    },
    {
      "cell_type": "code",
      "source": [
        "resnet50 = resnet50.to(device)"
      ],
      "metadata": {
        "id": "5iJmodbqKaxh"
      },
      "execution_count": 21,
      "outputs": []
    },
    {
      "cell_type": "code",
      "source": [
        "# преобразование признаков\n",
        "trans_actions = transforms.Compose([transforms.Resize(256), \n",
        "                                    transforms.CenterCrop(224),\n",
        "                                    transforms.ToTensor(),\n",
        "                                    # нормализация тензора со средним значением и стандартным отклонением (для каждого из 3 каналов)\n",
        "                                    # output[channel] = (input[channel] - mean[channel]) / std[channel]\n",
        "                                    transforms.Normalize(mean=[0.485, 0.456, 0.406],\n",
        "                                                         std=[0.229, 0.224, 0.225])\n",
        "                                    ])\n",
        "valid_transforms = transforms.Compose([transforms.ToTensor(),\n",
        "                                       transforms.Normalize(mean=[0.485, 0.456, 0.406],\n",
        "                                                         std=[0.229, 0.224, 0.225])])\n",
        "\n",
        "# разделение датасета на train и test\n",
        "train_dataset, valid_dataset = train_valid_split(dataset)\n",
        "\n",
        "# создание элементов класса датасета\n",
        "train_dataset = MyOwnCifar(train_dataset, trans_actions)\n",
        "valid_dataset = MyOwnCifar(valid_dataset, valid_transforms)\n",
        "\n",
        "# загрузчики датасетов\n",
        "train_loader = torch.utils.data.DataLoader(train_dataset,\n",
        "                          batch_size=128,\n",
        "                          shuffle=True,\n",
        "                          num_workers=0)\n",
        "valid_loader = torch.utils.data.DataLoader(valid_dataset,\n",
        "                          batch_size=128,\n",
        "                          shuffle=False,\n",
        "                          num_workers=0)"
      ],
      "metadata": {
        "id": "dfha0XusKf12"
      },
      "execution_count": 22,
      "outputs": []
    },
    {
      "cell_type": "code",
      "source": [
        "# список весов для обновления\n",
        "params_to_update = []\n",
        "\n",
        "# собираем рапаметры (веса), у которых param.requires_grad == True\n",
        "for name, param in resnet50.named_parameters():\n",
        "    if param.requires_grad == True:\n",
        "        params_to_update.append(param)\n",
        "\n",
        "params_to_update"
      ],
      "metadata": {
        "colab": {
          "base_uri": "https://localhost:8080/"
        },
        "id": "mIjBvEYkKjhY",
        "outputId": "90fa1a54-5180-487c-b88c-41a892253052"
      },
      "execution_count": 23,
      "outputs": [
        {
          "output_type": "execute_result",
          "data": {
            "text/plain": [
              "[Parameter containing:\n",
              " tensor([[ 0.0063, -0.0154,  0.0143,  ..., -0.0171, -0.0166,  0.0164],\n",
              "         [-0.0007, -0.0035,  0.0040,  ...,  0.0068, -0.0170, -0.0170],\n",
              "         [-0.0154,  0.0212,  0.0190,  ...,  0.0019,  0.0067,  0.0018],\n",
              "         ...,\n",
              "         [-0.0113, -0.0159, -0.0127,  ...,  0.0004, -0.0203,  0.0087],\n",
              "         [-0.0204, -0.0211, -0.0142,  ..., -0.0114, -0.0057, -0.0182],\n",
              "         [-0.0198,  0.0117,  0.0127,  ...,  0.0219, -0.0002, -0.0111]],\n",
              "        device='cuda:0', requires_grad=True), Parameter containing:\n",
              " tensor([ 5.7647e-03,  1.3104e-02,  5.7125e-03,  1.9547e-02,  5.8326e-03,\n",
              "          1.5394e-02, -1.2468e-03,  4.8353e-03, -2.4460e-03,  2.0691e-02,\n",
              "         -2.0554e-02, -6.7640e-05, -1.9148e-02, -2.1386e-03, -9.3640e-03,\n",
              "         -1.6273e-03, -1.1885e-02,  9.9964e-03,  2.0058e-02,  1.2120e-02,\n",
              "          2.3649e-03,  1.5900e-02, -1.8914e-03, -1.8180e-02,  2.0851e-02,\n",
              "         -5.4445e-03, -1.5585e-02,  1.9667e-02, -1.7508e-02, -2.1082e-02,\n",
              "          5.8144e-03, -1.5549e-02, -6.0117e-03, -1.2546e-02,  6.5858e-03,\n",
              "         -7.2368e-03,  1.3292e-02, -1.2057e-02, -2.2383e-03,  6.3557e-03,\n",
              "          3.3628e-03,  4.5299e-03,  2.0451e-02,  1.1868e-04,  1.3654e-02,\n",
              "          5.3597e-03,  1.9331e-02,  7.7011e-03, -7.8131e-03,  1.9834e-03,\n",
              "         -1.6736e-03, -1.9560e-02,  8.3429e-03,  1.4489e-02,  1.1770e-02,\n",
              "         -5.6886e-04,  1.1961e-02,  1.4055e-02, -8.3537e-03,  1.7894e-02,\n",
              "          1.1713e-02,  7.2390e-03, -1.1488e-02, -1.8734e-03, -1.7760e-02,\n",
              "         -1.0507e-03, -1.9360e-02, -1.7752e-02,  1.2192e-02, -1.6731e-02,\n",
              "         -6.3083e-03, -5.1618e-03,  6.4648e-03, -8.6358e-03,  5.2202e-03,\n",
              "         -1.6928e-02, -1.7740e-03,  1.6787e-02,  7.9203e-03,  1.1019e-02,\n",
              "         -1.0888e-02, -2.1905e-02, -2.1584e-02,  1.7014e-02, -2.9596e-03,\n",
              "         -1.3946e-02, -1.2741e-02, -1.4708e-02, -9.8294e-03, -1.7546e-03,\n",
              "          1.0315e-02, -1.5160e-02, -2.1454e-02,  1.7153e-02, -2.0734e-02,\n",
              "          1.3298e-02, -2.5015e-03, -9.9691e-03, -7.8956e-03,  9.8627e-03],\n",
              "        device='cuda:0', requires_grad=True)]"
            ]
          },
          "metadata": {},
          "execution_count": 23
        }
      ]
    },
    {
      "cell_type": "code",
      "source": [
        "# компиляция модели\n",
        "optimizer = torch.optim.Adam(params_to_update, lr=0.001)\n",
        "criterion = nn.CrossEntropyLoss()"
      ],
      "metadata": {
        "id": "kfDt9ZUCKvzk"
      },
      "execution_count": 24,
      "outputs": []
    },
    {
      "cell_type": "code",
      "source": [
        "num_epochs = 5\n",
        "net = resnet50\n",
        "train_eval_model(net, num_epochs, train_loader, valid_loader)"
      ],
      "metadata": {
        "colab": {
          "base_uri": "https://localhost:8080/"
        },
        "id": "J1jlza1MKzfq",
        "outputId": "afea71d2-5c43-4337-a2c8-8b9c598a9ff4"
      },
      "execution_count": 25,
      "outputs": [
        {
          "output_type": "stream",
          "name": "stdout",
          "text": [
            "Epoch [1/5]. Step [1/372]. Loss: 0.037. Acc: 0.008. Test acc: 0.012\n",
            "Epoch [1/5]. Step [301/372]. Loss: 0.014. Acc: 0.556. Test acc: 0.233\n",
            "Epoch [2/5]. Step [1/372]. Loss: 0.023. Acc: 0.289. Test acc: 0.236\n",
            "Epoch [2/5]. Step [301/372]. Loss: 0.008. Acc: 0.690. Test acc: 0.240\n",
            "Epoch [3/5]. Step [1/372]. Loss: 0.022. Acc: 0.258. Test acc: 0.232\n",
            "Epoch [3/5]. Step [301/372]. Loss: 0.007. Acc: 0.722. Test acc: 0.236\n",
            "Epoch [4/5]. Step [1/372]. Loss: 0.021. Acc: 0.359. Test acc: 0.222\n",
            "Epoch [4/5]. Step [301/372]. Loss: 0.007. Acc: 0.740. Test acc: 0.231\n",
            "Epoch [5/5]. Step [1/372]. Loss: 0.019. Acc: 0.352. Test acc: 0.220\n",
            "Epoch [5/5]. Step [301/372]. Loss: 0.006. Acc: 0.753. Test acc: 0.217\n",
            "Training is finished!\n"
          ]
        }
      ]
    }
  ]
}