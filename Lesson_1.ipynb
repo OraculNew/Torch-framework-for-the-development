{
  "nbformat": 4,
  "nbformat_minor": 0,
  "metadata": {
    "colab": {
      "name": "Lesson_1.ipynb",
      "provenance": []
    },
    "kernelspec": {
      "name": "python3",
      "display_name": "Python 3"
    },
    "language_info": {
      "name": "python"
    },
    "accelerator": "GPU"
  },
  "cells": [
    {
      "cell_type": "code",
      "execution_count": 1,
      "metadata": {
        "id": "WeO1HWxlSpgp"
      },
      "outputs": [],
      "source": [
        "import torch"
      ]
    },
    {
      "cell_type": "markdown",
      "source": [
        "##### 1. Создайте случайный FloatTensor размера 3x4x5"
      ],
      "metadata": {
        "id": "DDgKW6xPSylp"
      }
    },
    {
      "cell_type": "code",
      "source": [
        "a = torch.FloatTensor(3,4,5)\n",
        "a"
      ],
      "metadata": {
        "colab": {
          "base_uri": "https://localhost:8080/"
        },
        "id": "F6rGFqlfSzsx",
        "outputId": "16f613c0-2702-400e-b1c2-7e172225feba"
      },
      "execution_count": 2,
      "outputs": [
        {
          "output_type": "execute_result",
          "data": {
            "text/plain": [
              "tensor([[[9.0244e-37, 0.0000e+00, 9.1084e-44, 2.5111e-42, 9.0226e-37],\n",
              "         [0.0000e+00, 9.0226e-37, 0.0000e+00, 4.1879e-38, 2.6920e-36],\n",
              "         [1.4787e-38, 2.6922e-36, 9.0227e-37, 0.0000e+00, 9.0227e-37],\n",
              "         [0.0000e+00, 1.2124e-38, 5.2911e-38, 1.7179e-34, 4.8501e-38]],\n",
              "\n",
              "        [[1.2402e-38, 2.7445e-33, 7.9469e-34, 4.3920e-32, 1.2127e-38],\n",
              "         [7.0273e-31, 1.2127e-38, 1.1244e-29, 1.2128e-38, 1.7990e-28],\n",
              "         [1.2129e-38, 2.8785e-27, 1.2130e-38, 1.8070e-28, 1.8424e-25],\n",
              "         [4.8123e-38, 5.2924e-38, 7.3784e-25, 4.8524e-38, 1.1791e-23]],\n",
              "\n",
              "        [[1.2132e-38, 5.2926e-38, 7.5556e-22, 4.8531e-38, 1.2075e-20],\n",
              "         [1.2134e-38, 1.9320e-19, 1.2134e-38, 5.2932e-38, 3.0948e-18],\n",
              "         [4.8540e-38, 4.9460e-17, 1.2136e-38, 7.9138e-16, 1.2136e-38],\n",
              "         [1.2662e-14, 1.2137e-38, 5.2936e-38, 8.1130e-13, 4.8553e-38]]])"
            ]
          },
          "metadata": {},
          "execution_count": 2
        }
      ]
    },
    {
      "cell_type": "markdown",
      "source": [
        "##### 2. Выведите его форму (shape)"
      ],
      "metadata": {
        "id": "efOLYgjEY_2x"
      }
    },
    {
      "cell_type": "code",
      "source": [
        "a.shape"
      ],
      "metadata": {
        "colab": {
          "base_uri": "https://localhost:8080/"
        },
        "id": "qFNgbagaYJtf",
        "outputId": "5dadd362-9dae-4778-c170-752607f917e9"
      },
      "execution_count": 3,
      "outputs": [
        {
          "output_type": "execute_result",
          "data": {
            "text/plain": [
              "torch.Size([3, 4, 5])"
            ]
          },
          "metadata": {},
          "execution_count": 3
        }
      ]
    },
    {
      "cell_type": "markdown",
      "source": [
        "##### 3. Приведите его к форме 6х10"
      ],
      "metadata": {
        "id": "LMrHN2umZFrx"
      }
    },
    {
      "cell_type": "code",
      "source": [
        "b = a.view(6,10)\n",
        "b"
      ],
      "metadata": {
        "colab": {
          "base_uri": "https://localhost:8080/"
        },
        "id": "VYmVd5rXYWen",
        "outputId": "5365c073-a6fb-42d6-c867-cb0229338ac3"
      },
      "execution_count": 4,
      "outputs": [
        {
          "output_type": "execute_result",
          "data": {
            "text/plain": [
              "tensor([[9.0244e-37, 0.0000e+00, 9.1084e-44, 2.5111e-42, 9.0226e-37, 0.0000e+00,\n",
              "         9.0226e-37, 0.0000e+00, 4.1879e-38, 2.6920e-36],\n",
              "        [1.4787e-38, 2.6922e-36, 9.0227e-37, 0.0000e+00, 9.0227e-37, 0.0000e+00,\n",
              "         1.2124e-38, 5.2911e-38, 1.7179e-34, 4.8501e-38],\n",
              "        [1.2402e-38, 2.7445e-33, 7.9469e-34, 4.3920e-32, 1.2127e-38, 7.0273e-31,\n",
              "         1.2127e-38, 1.1244e-29, 1.2128e-38, 1.7990e-28],\n",
              "        [1.2129e-38, 2.8785e-27, 1.2130e-38, 1.8070e-28, 1.8424e-25, 4.8123e-38,\n",
              "         5.2924e-38, 7.3784e-25, 4.8524e-38, 1.1791e-23],\n",
              "        [1.2132e-38, 5.2926e-38, 7.5556e-22, 4.8531e-38, 1.2075e-20, 1.2134e-38,\n",
              "         1.9320e-19, 1.2134e-38, 5.2932e-38, 3.0948e-18],\n",
              "        [4.8540e-38, 4.9460e-17, 1.2136e-38, 7.9138e-16, 1.2136e-38, 1.2662e-14,\n",
              "         1.2137e-38, 5.2936e-38, 8.1130e-13, 4.8553e-38]])"
            ]
          },
          "metadata": {},
          "execution_count": 4
        }
      ]
    },
    {
      "cell_type": "code",
      "source": [
        "b.shape"
      ],
      "metadata": {
        "colab": {
          "base_uri": "https://localhost:8080/"
        },
        "id": "seLBIQwyY4AJ",
        "outputId": "45be07f2-212b-4e51-83bb-48c043487b86"
      },
      "execution_count": 5,
      "outputs": [
        {
          "output_type": "execute_result",
          "data": {
            "text/plain": [
              "torch.Size([6, 10])"
            ]
          },
          "metadata": {},
          "execution_count": 5
        }
      ]
    },
    {
      "cell_type": "markdown",
      "source": [
        "##### 4. Создайте случайный IntTensor размера 10"
      ],
      "metadata": {
        "id": "6meZ1QbAZPyy"
      }
    },
    {
      "cell_type": "code",
      "source": [
        "c = torch.IntTensor(10)\n",
        "c"
      ],
      "metadata": {
        "colab": {
          "base_uri": "https://localhost:8080/"
        },
        "id": "PS3nCP5wZTF6",
        "outputId": "8a8ef674-587a-4683-8d58-f8a1b54f8130"
      },
      "execution_count": 6,
      "outputs": [
        {
          "output_type": "execute_result",
          "data": {
            "text/plain": [
              "tensor([ 110839040,          0,         24,          0,         -1,   16843009,\n",
              "        1668444020, 1767059048, 1529374074,  824192054], dtype=torch.int32)"
            ]
          },
          "metadata": {},
          "execution_count": 6
        }
      ]
    },
    {
      "cell_type": "code",
      "source": [
        "c.shape"
      ],
      "metadata": {
        "colab": {
          "base_uri": "https://localhost:8080/"
        },
        "id": "XWS6Ww2AZZX6",
        "outputId": "dec55163-8533-412a-d2da-073581417935"
      },
      "execution_count": 7,
      "outputs": [
        {
          "output_type": "execute_result",
          "data": {
            "text/plain": [
              "torch.Size([10])"
            ]
          },
          "metadata": {},
          "execution_count": 7
        }
      ]
    },
    {
      "cell_type": "markdown",
      "source": [
        "##### 5. Умножьте созданный FloatTensor на созданный IntTensor поэлементно"
      ],
      "metadata": {
        "id": "spZj98NYZeha"
      }
    },
    {
      "cell_type": "code",
      "source": [
        "d = b * c\n",
        "d"
      ],
      "metadata": {
        "colab": {
          "base_uri": "https://localhost:8080/"
        },
        "id": "ShnGkbLoZr2o",
        "outputId": "0b595bc8-a886-42c2-cdbb-3e2d27688543"
      },
      "execution_count": 8,
      "outputs": [
        {
          "output_type": "execute_result",
          "data": {
            "text/plain": [
              "tensor([[ 1.0003e-28,  0.0000e+00,  2.1860e-42,  0.0000e+00, -9.0226e-37,\n",
              "          0.0000e+00,  1.5054e-27,  0.0000e+00,  6.4049e-29,  2.2188e-27],\n",
              "        [ 1.6390e-30,  0.0000e+00,  2.1654e-35,  0.0000e+00, -9.0227e-37,\n",
              "          0.0000e+00,  2.0228e-29,  9.3496e-29,  2.6273e-25,  3.9974e-29],\n",
              "        [ 1.3746e-30,  0.0000e+00,  1.9073e-32,  0.0000e+00, -1.2127e-38,\n",
              "          1.1836e-23,  2.0234e-29,  1.9869e-20,  1.8549e-29,  1.4828e-19],\n",
              "        [ 1.3444e-30,  0.0000e+00,  2.9112e-37,  0.0000e+00, -1.8424e-25,\n",
              "          8.1053e-31,  8.8300e-29,  1.3038e-15,  7.4212e-29,  9.7182e-15],\n",
              "        [ 1.3447e-30,  0.0000e+00,  1.8133e-20,  0.0000e+00, -1.2075e-20,\n",
              "          2.0437e-31,  3.2234e-10,  2.1442e-29,  8.0952e-29,  2.5507e-09],\n",
              "        [ 5.3801e-30,  0.0000e+00,  2.9126e-37,  0.0000e+00, -1.2136e-38,\n",
              "          2.1327e-07,  2.0250e-29,  9.3542e-29,  1.2408e-03,  4.0017e-29]])"
            ]
          },
          "metadata": {},
          "execution_count": 8
        }
      ]
    },
    {
      "cell_type": "code",
      "source": [
        "d.shape"
      ],
      "metadata": {
        "colab": {
          "base_uri": "https://localhost:8080/"
        },
        "id": "U9e_3DycZ6fu",
        "outputId": "9b0b1eaa-4a5a-4181-a4d5-60c9aad8808d"
      },
      "execution_count": 9,
      "outputs": [
        {
          "output_type": "execute_result",
          "data": {
            "text/plain": [
              "torch.Size([6, 10])"
            ]
          },
          "metadata": {},
          "execution_count": 9
        }
      ]
    },
    {
      "cell_type": "markdown",
      "source": [
        "##### 6. Умножьте тензор матрично на себя, чтобы результат был размерности 6x6\n",
        "##### Подсказка: .dot может не подойти"
      ],
      "metadata": {
        "id": "JpqUFOyUaCXM"
      }
    },
    {
      "cell_type": "code",
      "source": [
        "dd = torch.mm(d,torch.t(d))\n",
        "dd"
      ],
      "metadata": {
        "colab": {
          "base_uri": "https://localhost:8080/"
        },
        "id": "pmRW1uZFaBnM",
        "outputId": "185ba18e-3620-45d9-fd19-f57b7d73484b"
      },
      "execution_count": 10,
      "outputs": [
        {
          "output_type": "execute_result",
          "data": {
            "text/plain": [
              "tensor([[0.0000e+00, 0.0000e+00, 0.0000e+00, 2.1562e-41, 6.1447e-36, 7.9471e-32],\n",
              "        [0.0000e+00, 0.0000e+00, 0.0000e+00, 5.1007e-43, 1.0848e-37, 3.2599e-28],\n",
              "        [0.0000e+00, 0.0000e+00, 2.2380e-38, 1.4669e-33, 3.7821e-28, 2.5473e-30],\n",
              "        [2.1562e-41, 5.1007e-43, 1.4669e-33, 9.6144e-29, 2.4789e-23, 9.2081e-32],\n",
              "        [6.1447e-36, 1.0848e-37, 3.7821e-28, 2.4789e-23, 6.6101e-18, 1.0044e-31],\n",
              "        [7.9471e-32, 3.2599e-28, 2.5473e-30, 9.2081e-32, 1.0044e-31, 1.5395e-06]])"
            ]
          },
          "metadata": {},
          "execution_count": 10
        }
      ]
    },
    {
      "cell_type": "code",
      "source": [
        "dd.shape"
      ],
      "metadata": {
        "colab": {
          "base_uri": "https://localhost:8080/"
        },
        "id": "ZuxH9eKMg57B",
        "outputId": "52181c2c-579e-4c4c-9f2e-2be79b153b15"
      },
      "execution_count": 11,
      "outputs": [
        {
          "output_type": "execute_result",
          "data": {
            "text/plain": [
              "torch.Size([6, 6])"
            ]
          },
          "metadata": {},
          "execution_count": 11
        }
      ]
    },
    {
      "cell_type": "markdown",
      "source": [
        "##### 7. Посчитайте производную функции y = x**3 + z - 75t в точке (1, 0.5, 2)"
      ],
      "metadata": {
        "id": "Al4pYEfah7Ij"
      }
    },
    {
      "cell_type": "code",
      "source": [
        "x=torch.tensor(1.0, requires_grad=True) \n",
        "z=torch.tensor(0.5, requires_grad=True) \n",
        "t=torch.tensor(2.0, requires_grad=True) \n",
        "y=torch.pow(x,3) + z - 75*t \n",
        "y.backward() \n",
        "print(x.grad) \n",
        "print(z.grad) \n",
        "print(t.grad) \n"
      ],
      "metadata": {
        "colab": {
          "base_uri": "https://localhost:8080/"
        },
        "id": "DfI1o2Gplpqb",
        "outputId": "72a9b383-756d-4211-b570-398cc74182bd"
      },
      "execution_count": 12,
      "outputs": [
        {
          "output_type": "stream",
          "name": "stdout",
          "text": [
            "tensor(3.)\n",
            "tensor(1.)\n",
            "tensor(-75.)\n"
          ]
        }
      ]
    },
    {
      "cell_type": "markdown",
      "source": [
        "##### 8. Создайте единичный тензор размера 5x6"
      ],
      "metadata": {
        "id": "_aouhLM2p2q1"
      }
    },
    {
      "cell_type": "code",
      "source": [
        "o = torch.ones(5,6)\n",
        "o"
      ],
      "metadata": {
        "colab": {
          "base_uri": "https://localhost:8080/"
        },
        "id": "RbGXAfoqp4dd",
        "outputId": "3623ba0b-c59a-46bc-9c5e-b26745d8349c"
      },
      "execution_count": 13,
      "outputs": [
        {
          "output_type": "execute_result",
          "data": {
            "text/plain": [
              "tensor([[1., 1., 1., 1., 1., 1.],\n",
              "        [1., 1., 1., 1., 1., 1.],\n",
              "        [1., 1., 1., 1., 1., 1.],\n",
              "        [1., 1., 1., 1., 1., 1.],\n",
              "        [1., 1., 1., 1., 1., 1.]])"
            ]
          },
          "metadata": {},
          "execution_count": 13
        }
      ]
    },
    {
      "cell_type": "markdown",
      "source": [
        "##### 9. Переведите его в формат numpy"
      ],
      "metadata": {
        "id": "C0OtPzSuqIAW"
      }
    },
    {
      "cell_type": "code",
      "source": [
        "o.numpy()"
      ],
      "metadata": {
        "colab": {
          "base_uri": "https://localhost:8080/"
        },
        "id": "ehDMhL4-qJmd",
        "outputId": "d085d548-c287-4cd3-ba9c-141d8b85437b"
      },
      "execution_count": 14,
      "outputs": [
        {
          "output_type": "execute_result",
          "data": {
            "text/plain": [
              "array([[1., 1., 1., 1., 1., 1.],\n",
              "       [1., 1., 1., 1., 1., 1.],\n",
              "       [1., 1., 1., 1., 1., 1.],\n",
              "       [1., 1., 1., 1., 1., 1.],\n",
              "       [1., 1., 1., 1., 1., 1.]], dtype=float32)"
            ]
          },
          "metadata": {},
          "execution_count": 14
        }
      ]
    }
  ]
}